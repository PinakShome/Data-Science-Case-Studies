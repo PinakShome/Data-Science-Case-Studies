{
 "cells": [
  {
   "cell_type": "code",
   "execution_count": 1,
   "id": "25364c87-3535-4c57-9e6c-38cb8e5ad058",
   "metadata": {},
   "outputs": [],
   "source": [
    "import pandas as pd\n",
    "import numpy as np"
   ]
  },
  {
   "cell_type": "code",
   "execution_count": 2,
   "id": "20e038b2-9d1c-44a1-af7e-c0901c4dc216",
   "metadata": {},
   "outputs": [],
   "source": [
    "import os\n",
    "\n",
    "directory = '/Users/pinakshome/Downloads/store-sales-time-series-forecasting/'\n",
    "\n",
    "for filename in os.listdir(directory):\n",
    "    if filename.endswith(\".csv\"):\n",
    "        file_path = os.path.join(directory, filename)\n",
    "        df_name = os.path.splitext(filename)[0]  # Use the filename (without extension) as the DataFrame name\n",
    "        globals()[df_name] = pd.read_csv(file_path)"
   ]
  },
  {
   "cell_type": "markdown",
   "id": "81197238-b3f3-4119-816a-2b287f46482e",
   "metadata": {},
   "source": [
    "<h1> <B> PreProcessing From Kaggle LightGBM notebook Reference <B> </h1>"
   ]
  },
  {
   "cell_type": "code",
   "execution_count": 5,
   "id": "2b1f18b8-36b6-4c51-9538-91aa398b57d4",
   "metadata": {
    "scrolled": true
   },
   "outputs": [
    {
     "data": {
      "text/plain": [
       "id             3000888\n",
       "date              1684\n",
       "store_nbr           54\n",
       "family              33\n",
       "sales           379610\n",
       "onpromotion        362\n",
       "dtype: int64"
      ]
     },
     "execution_count": 5,
     "metadata": {},
     "output_type": "execute_result"
    }
   ],
   "source": [
    "### Unique Values\n",
    "train.nunique()"
   ]
  },
  {
   "cell_type": "code",
   "execution_count": 6,
   "id": "a2598e91-2aa8-4983-98ce-94fb0ef2af0b",
   "metadata": {},
   "outputs": [
    {
     "name": "stdout",
     "output_type": "stream",
     "text": [
      "<class 'pandas.core.frame.DataFrame'>\n",
      "RangeIndex: 3000888 entries, 0 to 3000887\n",
      "Data columns (total 6 columns):\n",
      " #   Column       Dtype  \n",
      "---  ------       -----  \n",
      " 0   id           int64  \n",
      " 1   date         object \n",
      " 2   store_nbr    int64  \n",
      " 3   family       object \n",
      " 4   sales        float64\n",
      " 5   onpromotion  int64  \n",
      "dtypes: float64(1), int64(3), object(2)\n",
      "memory usage: 137.4+ MB\n"
     ]
    }
   ],
   "source": [
    "train.info()"
   ]
  },
  {
   "cell_type": "code",
   "execution_count": 9,
   "id": "241d2b6b-ee2c-4f0f-bbcd-ea82b1f442d5",
   "metadata": {},
   "outputs": [
    {
     "name": "stdout",
     "output_type": "stream",
     "text": [
      "Duplicate rows:\n",
      "Empty DataFrame\n",
      "Columns: [id, date, store_nbr, family, sales, onpromotion]\n",
      "Index: []\n"
     ]
    }
   ],
   "source": [
    "############# No Duplicates\n",
    "duplicates = df_train[df_train.duplicated()]\n",
    "\n",
    "print(\"Duplicate rows:\")\n",
    "print(duplicates)"
   ]
  },
  {
   "cell_type": "code",
   "execution_count": 156,
   "id": "56a33878-f6a6-4a24-92db-8194e69c7c96",
   "metadata": {},
   "outputs": [
    {
     "name": "stdout",
     "output_type": "stream",
     "text": [
      "Duplicate rows based on 'Column1' and 'Column2':\n",
      "Empty DataFrame\n",
      "Columns: [id, date, store_nbr, family, sales, onpromotion]\n",
      "Index: []\n"
     ]
    }
   ],
   "source": [
    "# Check for duplicates based on column combination\n",
    "duplicates = df_train1[df_train1.duplicated(['date','family','store_nbr','sales','onpromotion'])]\n",
    "\n",
    "print(\"Duplicate rows based on 'Column1' and 'Column2':\")\n",
    "print(duplicates)\n"
   ]
  },
  {
   "cell_type": "code",
   "execution_count": 10,
   "id": "170a9c96-1443-4e08-bbe7-0a189d5bdf37",
   "metadata": {},
   "outputs": [
    {
     "data": {
      "text/html": [
       "<div>\n",
       "<style scoped>\n",
       "    .dataframe tbody tr th:only-of-type {\n",
       "        vertical-align: middle;\n",
       "    }\n",
       "\n",
       "    .dataframe tbody tr th {\n",
       "        vertical-align: top;\n",
       "    }\n",
       "\n",
       "    .dataframe thead th {\n",
       "        text-align: right;\n",
       "    }\n",
       "</style>\n",
       "<table border=\"1\" class=\"dataframe\">\n",
       "  <thead>\n",
       "    <tr style=\"text-align: right;\">\n",
       "      <th></th>\n",
       "      <th>id</th>\n",
       "      <th>date</th>\n",
       "      <th>store_nbr</th>\n",
       "      <th>family</th>\n",
       "      <th>sales</th>\n",
       "      <th>onpromotion</th>\n",
       "    </tr>\n",
       "  </thead>\n",
       "  <tbody>\n",
       "    <tr>\n",
       "      <th>0</th>\n",
       "      <td>0</td>\n",
       "      <td>2013-01-01</td>\n",
       "      <td>1</td>\n",
       "      <td>AUTOMOTIVE</td>\n",
       "      <td>0.000000</td>\n",
       "      <td>0</td>\n",
       "    </tr>\n",
       "    <tr>\n",
       "      <th>1</th>\n",
       "      <td>1</td>\n",
       "      <td>2013-01-01</td>\n",
       "      <td>1</td>\n",
       "      <td>BABY CARE</td>\n",
       "      <td>0.000000</td>\n",
       "      <td>0</td>\n",
       "    </tr>\n",
       "    <tr>\n",
       "      <th>2</th>\n",
       "      <td>2</td>\n",
       "      <td>2013-01-01</td>\n",
       "      <td>1</td>\n",
       "      <td>BEAUTY</td>\n",
       "      <td>0.000000</td>\n",
       "      <td>0</td>\n",
       "    </tr>\n",
       "    <tr>\n",
       "      <th>3</th>\n",
       "      <td>3</td>\n",
       "      <td>2013-01-01</td>\n",
       "      <td>1</td>\n",
       "      <td>BEVERAGES</td>\n",
       "      <td>0.000000</td>\n",
       "      <td>0</td>\n",
       "    </tr>\n",
       "    <tr>\n",
       "      <th>4</th>\n",
       "      <td>4</td>\n",
       "      <td>2013-01-01</td>\n",
       "      <td>1</td>\n",
       "      <td>BOOKS</td>\n",
       "      <td>0.000000</td>\n",
       "      <td>0</td>\n",
       "    </tr>\n",
       "    <tr>\n",
       "      <th>...</th>\n",
       "      <td>...</td>\n",
       "      <td>...</td>\n",
       "      <td>...</td>\n",
       "      <td>...</td>\n",
       "      <td>...</td>\n",
       "      <td>...</td>\n",
       "    </tr>\n",
       "    <tr>\n",
       "      <th>3000783</th>\n",
       "      <td>3000783</td>\n",
       "      <td>2017-08-15</td>\n",
       "      <td>6</td>\n",
       "      <td>PLAYERS AND ELECTRONICS</td>\n",
       "      <td>15.000000</td>\n",
       "      <td>0</td>\n",
       "    </tr>\n",
       "    <tr>\n",
       "      <th>3000784</th>\n",
       "      <td>3000784</td>\n",
       "      <td>2017-08-15</td>\n",
       "      <td>6</td>\n",
       "      <td>POULTRY</td>\n",
       "      <td>434.570000</td>\n",
       "      <td>0</td>\n",
       "    </tr>\n",
       "    <tr>\n",
       "      <th>3000785</th>\n",
       "      <td>3000785</td>\n",
       "      <td>2017-08-15</td>\n",
       "      <td>6</td>\n",
       "      <td>PREPARED FOODS</td>\n",
       "      <td>102.341995</td>\n",
       "      <td>0</td>\n",
       "    </tr>\n",
       "    <tr>\n",
       "      <th>3000786</th>\n",
       "      <td>3000786</td>\n",
       "      <td>2017-08-15</td>\n",
       "      <td>6</td>\n",
       "      <td>PRODUCE</td>\n",
       "      <td>2073.636000</td>\n",
       "      <td>5</td>\n",
       "    </tr>\n",
       "    <tr>\n",
       "      <th>3000787</th>\n",
       "      <td>3000787</td>\n",
       "      <td>2017-08-15</td>\n",
       "      <td>6</td>\n",
       "      <td>SCHOOL AND OFFICE SUPPLIES</td>\n",
       "      <td>0.000000</td>\n",
       "      <td>0</td>\n",
       "    </tr>\n",
       "  </tbody>\n",
       "</table>\n",
       "<p>3000788 rows × 6 columns</p>\n",
       "</div>"
      ],
      "text/plain": [
       "              id        date  store_nbr                      family  \\\n",
       "0              0  2013-01-01          1                  AUTOMOTIVE   \n",
       "1              1  2013-01-01          1                   BABY CARE   \n",
       "2              2  2013-01-01          1                      BEAUTY   \n",
       "3              3  2013-01-01          1                   BEVERAGES   \n",
       "4              4  2013-01-01          1                       BOOKS   \n",
       "...          ...         ...        ...                         ...   \n",
       "3000783  3000783  2017-08-15          6     PLAYERS AND ELECTRONICS   \n",
       "3000784  3000784  2017-08-15          6                     POULTRY   \n",
       "3000785  3000785  2017-08-15          6              PREPARED FOODS   \n",
       "3000786  3000786  2017-08-15          6                     PRODUCE   \n",
       "3000787  3000787  2017-08-15          6  SCHOOL AND OFFICE SUPPLIES   \n",
       "\n",
       "               sales  onpromotion  \n",
       "0           0.000000            0  \n",
       "1           0.000000            0  \n",
       "2           0.000000            0  \n",
       "3           0.000000            0  \n",
       "4           0.000000            0  \n",
       "...              ...          ...  \n",
       "3000783    15.000000            0  \n",
       "3000784   434.570000            0  \n",
       "3000785   102.341995            0  \n",
       "3000786  2073.636000            5  \n",
       "3000787     0.000000            0  \n",
       "\n",
       "[3000788 rows x 6 columns]"
      ]
     },
     "execution_count": 10,
     "metadata": {},
     "output_type": "execute_result"
    }
   ],
   "source": [
    "df_train.head(-100)"
   ]
  },
  {
   "cell_type": "code",
   "execution_count": null,
   "id": "99dae679-72bc-48a6-bb98-7391ca687800",
   "metadata": {},
   "outputs": [],
   "source": [
    "print(df_train.isnull().sum())"
   ]
  },
  {
   "cell_type": "code",
   "execution_count": 26,
   "id": "d9af269c-abbf-4a25-9247-90de6f31a540",
   "metadata": {},
   "outputs": [
    {
     "data": {
      "text/html": [
       "<div>\n",
       "<style scoped>\n",
       "    .dataframe tbody tr th:only-of-type {\n",
       "        vertical-align: middle;\n",
       "    }\n",
       "\n",
       "    .dataframe tbody tr th {\n",
       "        vertical-align: top;\n",
       "    }\n",
       "\n",
       "    .dataframe thead th {\n",
       "        text-align: right;\n",
       "    }\n",
       "</style>\n",
       "<table border=\"1\" class=\"dataframe\">\n",
       "  <thead>\n",
       "    <tr style=\"text-align: right;\">\n",
       "      <th></th>\n",
       "      <th>id</th>\n",
       "      <th>store_nbr</th>\n",
       "      <th>sales</th>\n",
       "      <th>onpromotion</th>\n",
       "    </tr>\n",
       "  </thead>\n",
       "  <tbody>\n",
       "    <tr>\n",
       "      <th>count</th>\n",
       "      <td>3.000888e+06</td>\n",
       "      <td>3.000888e+06</td>\n",
       "      <td>3.000888e+06</td>\n",
       "      <td>3.000888e+06</td>\n",
       "    </tr>\n",
       "    <tr>\n",
       "      <th>mean</th>\n",
       "      <td>1.500444e+06</td>\n",
       "      <td>2.750000e+01</td>\n",
       "      <td>3.577757e+02</td>\n",
       "      <td>2.602770e+00</td>\n",
       "    </tr>\n",
       "    <tr>\n",
       "      <th>std</th>\n",
       "      <td>8.662819e+05</td>\n",
       "      <td>1.558579e+01</td>\n",
       "      <td>1.101998e+03</td>\n",
       "      <td>1.221888e+01</td>\n",
       "    </tr>\n",
       "    <tr>\n",
       "      <th>min</th>\n",
       "      <td>0.000000e+00</td>\n",
       "      <td>1.000000e+00</td>\n",
       "      <td>0.000000e+00</td>\n",
       "      <td>0.000000e+00</td>\n",
       "    </tr>\n",
       "    <tr>\n",
       "      <th>25%</th>\n",
       "      <td>7.502218e+05</td>\n",
       "      <td>1.400000e+01</td>\n",
       "      <td>0.000000e+00</td>\n",
       "      <td>0.000000e+00</td>\n",
       "    </tr>\n",
       "    <tr>\n",
       "      <th>50%</th>\n",
       "      <td>1.500444e+06</td>\n",
       "      <td>2.750000e+01</td>\n",
       "      <td>1.100000e+01</td>\n",
       "      <td>0.000000e+00</td>\n",
       "    </tr>\n",
       "    <tr>\n",
       "      <th>75%</th>\n",
       "      <td>2.250665e+06</td>\n",
       "      <td>4.100000e+01</td>\n",
       "      <td>1.958473e+02</td>\n",
       "      <td>0.000000e+00</td>\n",
       "    </tr>\n",
       "    <tr>\n",
       "      <th>max</th>\n",
       "      <td>3.000887e+06</td>\n",
       "      <td>5.400000e+01</td>\n",
       "      <td>1.247170e+05</td>\n",
       "      <td>7.410000e+02</td>\n",
       "    </tr>\n",
       "  </tbody>\n",
       "</table>\n",
       "</div>"
      ],
      "text/plain": [
       "                 id     store_nbr         sales   onpromotion\n",
       "count  3.000888e+06  3.000888e+06  3.000888e+06  3.000888e+06\n",
       "mean   1.500444e+06  2.750000e+01  3.577757e+02  2.602770e+00\n",
       "std    8.662819e+05  1.558579e+01  1.101998e+03  1.221888e+01\n",
       "min    0.000000e+00  1.000000e+00  0.000000e+00  0.000000e+00\n",
       "25%    7.502218e+05  1.400000e+01  0.000000e+00  0.000000e+00\n",
       "50%    1.500444e+06  2.750000e+01  1.100000e+01  0.000000e+00\n",
       "75%    2.250665e+06  4.100000e+01  1.958473e+02  0.000000e+00\n",
       "max    3.000887e+06  5.400000e+01  1.247170e+05  7.410000e+02"
      ]
     },
     "execution_count": 26,
     "metadata": {},
     "output_type": "execute_result"
    }
   ],
   "source": [
    "df_train.describe()"
   ]
  },
  {
   "cell_type": "code",
   "execution_count": 33,
   "id": "dacb048c-5fd7-4ad7-b1d8-263b430ce826",
   "metadata": {},
   "outputs": [
    {
     "data": {
      "text/plain": [
       "id             3000888\n",
       "date           3000888\n",
       "store_nbr      3000888\n",
       "family         3000888\n",
       "sales          3000888\n",
       "onpromotion    3000888\n",
       "dtype: int64"
      ]
     },
     "execution_count": 33,
     "metadata": {},
     "output_type": "execute_result"
    }
   ],
   "source": [
    "###Checking non-null values\n",
    "df_train.count()"
   ]
  },
  {
   "cell_type": "code",
   "execution_count": 112,
   "id": "e7b51940-b447-4444-ad31-5704984d709e",
   "metadata": {},
   "outputs": [
    {
     "data": {
      "text/plain": [
       "523864.739374515"
      ]
     },
     "execution_count": 112,
     "metadata": {},
     "output_type": "execute_result"
    }
   ],
   "source": [
    "from sklearn.model_selection import train_test_split\n",
    "from sklearn.preprocessing import LabelEncoder\n",
    "from sklearn.linear_model import LinearRegression\n",
    "from sklearn.metrics import mean_squared_error\n",
    "\n",
    "\n",
    "# Select features and target for training\n",
    "y = df_train['sales']\n",
    "df_train = df_train.drop(['sales'],axis = 1)\n",
    "\n",
    "# Split the data into training and validation sets\n",
    "X_train, X_val, y_train, y_val = train_test_split(df_train, y, test_size=0.2, random_state=42)\n",
    "\n",
    "# Initialize and train the Linear Regression model\n",
    "model = LinearRegression()\n",
    "model.fit(X_train, y_train)\n",
    "\n",
    "# Make predictions on the validation set\n",
    "y_val_pred = model.predict(X_val)\n",
    "\n",
    "# Calculate the Mean Squared Error (MSE) for the validation set predictions\n",
    "mse = mean_squared_error(y_val, y_val_pred)\n",
    "\n",
    "mse"
   ]
  },
  {
   "cell_type": "code",
   "execution_count": 3,
   "id": "9decf546-66b3-46e0-910d-c892fa4f3db0",
   "metadata": {},
   "outputs": [],
   "source": [
    "train['date'] = pd.to_datetime(train['date'])"
   ]
  },
  {
   "cell_type": "code",
   "execution_count": 4,
   "id": "37205ca3-e0e7-40db-82dd-0a09c6c7edcf",
   "metadata": {},
   "outputs": [],
   "source": [
    "test['date'] = pd.to_datetime(test['date'])"
   ]
  },
  {
   "cell_type": "code",
   "execution_count": 5,
   "id": "dc1f044d-1f81-41ce-bed4-d8bc90ec7954",
   "metadata": {},
   "outputs": [],
   "source": [
    "num_family = train.family.nunique()\n",
    "num_store = train.store_nbr.nunique()\n",
    "num_ts = train.groupby([\"store_nbr\", \"family\"]).ngroups\n",
    "train_start = train.date.min().date()\n",
    "train_end = train.date.max().date()\n",
    "num_train_date = train.date.nunique()\n",
    "train_len = (train_end - train_start).days + 1\n",
    "test_start = test.date.min().date()\n",
    "test_end = test.date.max().date()\n",
    "num_test_date = test.date.nunique()\n",
    "test_len = (test_end - test_start).days + 1"
   ]
  },
  {
   "cell_type": "code",
   "execution_count": 6,
   "id": "b0d4e834-7d80-4c89-a3ff-267536d4b72f",
   "metadata": {},
   "outputs": [
    {
     "name": "stdout",
     "output_type": "stream",
     "text": [
      "Number of unique families: 33\n",
      "Number of unique stores: 54\n",
      "Number of unique time series (store-family combinations): 1782\n",
      "Training start date: 2013-01-01\n",
      "Training end date: 2017-08-15\n",
      "Number of unique training dates: 1684\n",
      "Length of training period (in days): 1688\n",
      "Test start date: 2017-08-16\n",
      "Test end date: 2017-08-31\n",
      "Number of unique test dates: 16\n",
      "Length of test period (in days): 16\n"
     ]
    }
   ],
   "source": [
    "# Print all variables\n",
    "print(f\"Number of unique families: {num_family}\")\n",
    "print(f\"Number of unique stores: {num_store}\")\n",
    "print(f\"Number of unique time series (store-family combinations): {num_ts}\")\n",
    "print(f\"Training start date: {train_start}\")\n",
    "print(f\"Training end date: {train_end}\")\n",
    "print(f\"Number of unique training dates: {num_train_date}\")\n",
    "print(f\"Length of training period (in days): {train_len}\")\n",
    "print(f\"Test start date: {test_start}\")\n",
    "print(f\"Test end date: {test_end}\")\n",
    "print(f\"Number of unique test dates: {num_test_date}\")\n",
    "print(f\"Length of test period (in days): {test_len}\")"
   ]
  },
  {
   "cell_type": "code",
   "execution_count": 7,
   "id": "04ea5f7e-c979-4055-be44-e8336de1faf3",
   "metadata": {},
   "outputs": [
    {
     "name": "stdout",
     "output_type": "stream",
     "text": [
      "Number of unique store-family-date combinations: 3000888\n"
     ]
    }
   ],
   "source": [
    "# Check unique store-family-date combinations\n",
    "unique_combinations = train.drop_duplicates(subset=[\"store_nbr\", \"family\", \"date\"])\n",
    "\n",
    "# Number of unique combinations\n",
    "num_unique_combinations = unique_combinations.shape[0]\n",
    "\n",
    "# Print the number of unique combinations\n",
    "print(f\"Number of unique store-family-date combinations: {num_unique_combinations}\")"
   ]
  },
  {
   "cell_type": "code",
   "execution_count": 8,
   "id": "4d334262-6784-4975-85d0-f198d9a20002",
   "metadata": {},
   "outputs": [],
   "source": [
    "missing_dates = pd.date_range(train_start, train_end).difference(train.date.unique())\n",
    "missing_dates = missing_dates.strftime(\"%Y-%m-%d\").tolist()\n",
    "\n",
    "unique_dp_count = train.groupby([\"store_nbr\", \"family\"]).date.count().unique().tolist()"
   ]
  },
  {
   "cell_type": "code",
   "execution_count": 9,
   "id": "ef8086c8-f6d8-4b9a-98e7-07daa7a5b9d7",
   "metadata": {},
   "outputs": [
    {
     "name": "stdout",
     "output_type": "stream",
     "text": [
      "[1684]\n"
     ]
    }
   ],
   "source": [
    "print(unique_dp_count)"
   ]
  },
  {
   "cell_type": "code",
   "execution_count": 10,
   "id": "85245e8b-d20b-4385-904b-9d6a8800473a",
   "metadata": {},
   "outputs": [
    {
     "name": "stdout",
     "output_type": "stream",
     "text": [
      "['2013-12-25', '2014-12-25', '2015-12-25', '2016-12-25']\n"
     ]
    }
   ],
   "source": [
    "print(missing_dates)"
   ]
  },
  {
   "cell_type": "code",
   "execution_count": 11,
   "id": "df21e72f-fd12-4bb8-b837-8b0ef8b6695b",
   "metadata": {},
   "outputs": [],
   "source": [
    "####### REINDEXING and LINEAR EXTRAPOLATING ON ID\n",
    "# reindex training data\n",
    "multi_idx = pd.MultiIndex.from_product(\n",
    "    [pd.date_range(train_start, train_end), train.store_nbr.unique(), train.family.unique()],\n",
    "    names=[\"date\", \"store_nbr\", \"family\"],\n",
    ")\n",
    "train = train.set_index([\"date\", \"store_nbr\", \"family\"]).reindex(multi_idx).reset_index()\n",
    "\n",
    "# fill missing values with 0s\n",
    "train[[\"sales\", \"onpromotion\"]] = train[[\"sales\", \"onpromotion\"]].fillna(0.)\n",
    "train.id = train.id.interpolate(method=\"linear\") # interpolate linearly as a filler for the 'id'"
   ]
  },
  {
   "cell_type": "code",
   "execution_count": 12,
   "id": "70a1a3cf-f87d-4b2a-8b70-6ee36128413f",
   "metadata": {},
   "outputs": [],
   "source": [
    "###### OIL DATES MISSING CHECK\n",
    "missing_oil_dates = pd.date_range(train_start, test_end).difference(oil.date)\n",
    "num_missing_oil_dates = len(missing_oil_dates)\n",
    "num_wknd_missing = (missing_oil_dates.weekday >= 5).sum()\n",
    "total_num_wknd = (pd.date_range(train_start, test_end).weekday >= 5).sum()"
   ]
  },
  {
   "cell_type": "code",
   "execution_count": 13,
   "id": "3c2e4aae-6431-4a1c-aab0-0198a60161dc",
   "metadata": {},
   "outputs": [
    {
     "name": "stdout",
     "output_type": "stream",
     "text": [
      "DatetimeIndex(['2013-01-05', '2013-01-06', '2013-01-12', '2013-01-13',\n",
      "               '2013-01-19', '2013-01-20', '2013-01-26', '2013-01-27',\n",
      "               '2013-02-02', '2013-02-03',\n",
      "               ...\n",
      "               '2017-07-29', '2017-07-30', '2017-08-05', '2017-08-06',\n",
      "               '2017-08-12', '2017-08-13', '2017-08-19', '2017-08-20',\n",
      "               '2017-08-26', '2017-08-27'],\n",
      "              dtype='datetime64[ns]', length=486, freq=None)\n",
      "486\n",
      "486\n",
      "486\n"
     ]
    }
   ],
   "source": [
    "print(missing_oil_dates)\n",
    "print(num_missing_oil_dates)\n",
    "print(num_wknd_missing)\n",
    "print(total_num_wknd)"
   ]
  },
  {
   "cell_type": "code",
   "execution_count": 16,
   "id": "9b62a86b-b4c2-497d-a872-5238441e7573",
   "metadata": {},
   "outputs": [],
   "source": [
    "oil['date'] = pd.to_datetime(oil['date'])"
   ]
  },
  {
   "cell_type": "code",
   "execution_count": 18,
   "id": "83e30012-5399-45a7-9d90-b45a5ded6c24",
   "metadata": {},
   "outputs": [
    {
     "data": {
      "text/html": [
       "<div>\n",
       "<style scoped>\n",
       "    .dataframe tbody tr th:only-of-type {\n",
       "        vertical-align: middle;\n",
       "    }\n",
       "\n",
       "    .dataframe tbody tr th {\n",
       "        vertical-align: top;\n",
       "    }\n",
       "\n",
       "    .dataframe thead th {\n",
       "        text-align: right;\n",
       "    }\n",
       "</style>\n",
       "<table border=\"1\" class=\"dataframe\">\n",
       "  <thead>\n",
       "    <tr style=\"text-align: right;\">\n",
       "      <th></th>\n",
       "      <th>date</th>\n",
       "      <th>dcoilwtico</th>\n",
       "    </tr>\n",
       "  </thead>\n",
       "  <tbody>\n",
       "    <tr>\n",
       "      <th>0</th>\n",
       "      <td>2013-01-01</td>\n",
       "      <td>NaN</td>\n",
       "    </tr>\n",
       "    <tr>\n",
       "      <th>1</th>\n",
       "      <td>2013-01-02</td>\n",
       "      <td>93.14</td>\n",
       "    </tr>\n",
       "    <tr>\n",
       "      <th>2</th>\n",
       "      <td>2013-01-03</td>\n",
       "      <td>92.97</td>\n",
       "    </tr>\n",
       "    <tr>\n",
       "      <th>3</th>\n",
       "      <td>2013-01-04</td>\n",
       "      <td>93.12</td>\n",
       "    </tr>\n",
       "    <tr>\n",
       "      <th>4</th>\n",
       "      <td>2013-01-05</td>\n",
       "      <td>NaN</td>\n",
       "    </tr>\n",
       "  </tbody>\n",
       "</table>\n",
       "</div>"
      ],
      "text/plain": [
       "        date  dcoilwtico\n",
       "0 2013-01-01         NaN\n",
       "1 2013-01-02       93.14\n",
       "2 2013-01-03       92.97\n",
       "3 2013-01-04       93.12\n",
       "4 2013-01-05         NaN"
      ]
     },
     "execution_count": 18,
     "metadata": {},
     "output_type": "execute_result"
    }
   ],
   "source": [
    "oil.head()"
   ]
  },
  {
   "cell_type": "code",
   "execution_count": 19,
   "id": "fb0adf3d-aad0-4547-837f-0a2f442ffa96",
   "metadata": {},
   "outputs": [],
   "source": [
    "# reindex oil data\n",
    "oil = oil.merge(\n",
    "    pd.DataFrame({\"date\": pd.date_range(train_start, test_end)}),\n",
    "    on=\"date\",\n",
    "    how=\"outer\",\n",
    ").sort_values(\"date\", ignore_index=True)\n",
    "\n",
    "# fill missing values using linear interpolation\n",
    "oil.dcoilwtico = oil.dcoilwtico.interpolate(method=\"linear\", limit_direction=\"both\")"
   ]
  },
  {
   "cell_type": "code",
   "execution_count": 21,
   "id": "0b5dff93-949e-412c-8f0e-aa3dd4495530",
   "metadata": {},
   "outputs": [
    {
     "data": {
      "text/html": [
       "<div>\n",
       "<style scoped>\n",
       "    .dataframe tbody tr th:only-of-type {\n",
       "        vertical-align: middle;\n",
       "    }\n",
       "\n",
       "    .dataframe tbody tr th {\n",
       "        vertical-align: top;\n",
       "    }\n",
       "\n",
       "    .dataframe thead th {\n",
       "        text-align: right;\n",
       "    }\n",
       "</style>\n",
       "<table border=\"1\" class=\"dataframe\">\n",
       "  <thead>\n",
       "    <tr style=\"text-align: right;\">\n",
       "      <th></th>\n",
       "      <th>date</th>\n",
       "      <th>dcoilwtico</th>\n",
       "    </tr>\n",
       "  </thead>\n",
       "  <tbody>\n",
       "    <tr>\n",
       "      <th>0</th>\n",
       "      <td>2013-01-01</td>\n",
       "      <td>93.140000</td>\n",
       "    </tr>\n",
       "    <tr>\n",
       "      <th>1</th>\n",
       "      <td>2013-01-02</td>\n",
       "      <td>93.140000</td>\n",
       "    </tr>\n",
       "    <tr>\n",
       "      <th>2</th>\n",
       "      <td>2013-01-03</td>\n",
       "      <td>92.970000</td>\n",
       "    </tr>\n",
       "    <tr>\n",
       "      <th>3</th>\n",
       "      <td>2013-01-04</td>\n",
       "      <td>93.120000</td>\n",
       "    </tr>\n",
       "    <tr>\n",
       "      <th>4</th>\n",
       "      <td>2013-01-05</td>\n",
       "      <td>93.146667</td>\n",
       "    </tr>\n",
       "  </tbody>\n",
       "</table>\n",
       "</div>"
      ],
      "text/plain": [
       "        date  dcoilwtico\n",
       "0 2013-01-01   93.140000\n",
       "1 2013-01-02   93.140000\n",
       "2 2013-01-03   92.970000\n",
       "3 2013-01-04   93.120000\n",
       "4 2013-01-05   93.146667"
      ]
     },
     "execution_count": 21,
     "metadata": {},
     "output_type": "execute_result"
    }
   ],
   "source": [
    "oil.head()"
   ]
  },
  {
   "cell_type": "code",
   "execution_count": 22,
   "id": "bb9bf047-7426-4601-9f07-654ff190fb9a",
   "metadata": {},
   "outputs": [],
   "source": [
    "###### OIL DATES MISSING CHECK\n",
    "missing_oil_dates = pd.date_range(train_start, test_end).difference(oil.date)\n",
    "num_missing_oil_dates = len(missing_oil_dates)\n",
    "num_wknd_missing = (missing_oil_dates.weekday >= 5).sum()\n",
    "total_num_wknd = (pd.date_range(train_start, test_end).weekday >= 5).sum()"
   ]
  },
  {
   "cell_type": "code",
   "execution_count": 23,
   "id": "1f8e5b07-5813-427c-81c3-3ccf2ec79c3a",
   "metadata": {
    "scrolled": true
   },
   "outputs": [
    {
     "name": "stdout",
     "output_type": "stream",
     "text": [
      "DatetimeIndex([], dtype='datetime64[ns]', freq='D')\n",
      "0\n",
      "0\n",
      "486\n"
     ]
    }
   ],
   "source": [
    "print(missing_oil_dates)\n",
    "print(num_missing_oil_dates)\n",
    "print(num_wknd_missing)\n",
    "print(total_num_wknd)"
   ]
  },
  {
   "cell_type": "code",
   "execution_count": 24,
   "id": "42478fcc-c591-43a6-b07b-5e8c61e7ea6b",
   "metadata": {},
   "outputs": [],
   "source": [
    "##### Oil df fixed"
   ]
  },
  {
   "cell_type": "code",
   "execution_count": 26,
   "id": "f4e3f809-7c70-4df4-bb66-6d2186e22d31",
   "metadata": {},
   "outputs": [
    {
     "data": {
      "text/html": [
       "<div>\n",
       "<style scoped>\n",
       "    .dataframe tbody tr th:only-of-type {\n",
       "        vertical-align: middle;\n",
       "    }\n",
       "\n",
       "    .dataframe tbody tr th {\n",
       "        vertical-align: top;\n",
       "    }\n",
       "\n",
       "    .dataframe thead th {\n",
       "        text-align: right;\n",
       "    }\n",
       "</style>\n",
       "<table border=\"1\" class=\"dataframe\">\n",
       "  <thead>\n",
       "    <tr style=\"text-align: right;\">\n",
       "      <th></th>\n",
       "      <th>date</th>\n",
       "      <th>store_nbr</th>\n",
       "      <th>transactions</th>\n",
       "    </tr>\n",
       "  </thead>\n",
       "  <tbody>\n",
       "    <tr>\n",
       "      <th>0</th>\n",
       "      <td>2013-01-01</td>\n",
       "      <td>25</td>\n",
       "      <td>770</td>\n",
       "    </tr>\n",
       "    <tr>\n",
       "      <th>1</th>\n",
       "      <td>2013-01-02</td>\n",
       "      <td>1</td>\n",
       "      <td>2111</td>\n",
       "    </tr>\n",
       "    <tr>\n",
       "      <th>2</th>\n",
       "      <td>2013-01-02</td>\n",
       "      <td>2</td>\n",
       "      <td>2358</td>\n",
       "    </tr>\n",
       "    <tr>\n",
       "      <th>3</th>\n",
       "      <td>2013-01-02</td>\n",
       "      <td>3</td>\n",
       "      <td>3487</td>\n",
       "    </tr>\n",
       "    <tr>\n",
       "      <th>4</th>\n",
       "      <td>2013-01-02</td>\n",
       "      <td>4</td>\n",
       "      <td>1922</td>\n",
       "    </tr>\n",
       "  </tbody>\n",
       "</table>\n",
       "</div>"
      ],
      "text/plain": [
       "         date  store_nbr  transactions\n",
       "0  2013-01-01         25           770\n",
       "1  2013-01-02          1          2111\n",
       "2  2013-01-02          2          2358\n",
       "3  2013-01-02          3          3487\n",
       "4  2013-01-02          4          1922"
      ]
     },
     "execution_count": 26,
     "metadata": {},
     "output_type": "execute_result"
    }
   ],
   "source": [
    "transactions.head()"
   ]
  },
  {
   "cell_type": "code",
   "execution_count": 34,
   "id": "f31b87c2-c16c-4c1c-8d77-3d6f4aaeb72b",
   "metadata": {},
   "outputs": [],
   "source": [
    "transactions['date'] = pd.to_datetime(transactions['date'])"
   ]
  },
  {
   "cell_type": "code",
   "execution_count": 27,
   "id": "5156d87a-1b57-48a5-b01c-9b8a0d87fc52",
   "metadata": {},
   "outputs": [],
   "source": [
    "num_zero_sales = (train.groupby([\"date\", \"store_nbr\"]).sales.sum().eq(0)).sum()\n",
    "total_rec = num_store * train_len\n",
    "curr_rec = len(transactions.index)\n",
    "missing_rec = total_rec - curr_rec - num_zero_sales"
   ]
  },
  {
   "cell_type": "code",
   "execution_count": 28,
   "id": "806c9a7f-9d0b-4a2d-9e11-17931b0c6b3d",
   "metadata": {},
   "outputs": [
    {
     "name": "stdout",
     "output_type": "stream",
     "text": [
      "7546\n"
     ]
    }
   ],
   "source": [
    "print(num_zero_sales)"
   ]
  },
  {
   "cell_type": "code",
   "execution_count": 29,
   "id": "9ae887fc-c2fa-4614-9e1c-4a622f0a0862",
   "metadata": {},
   "outputs": [
    {
     "name": "stdout",
     "output_type": "stream",
     "text": [
      "91152\n"
     ]
    }
   ],
   "source": [
    "print(total_rec)"
   ]
  },
  {
   "cell_type": "code",
   "execution_count": 32,
   "id": "13c743e3-896b-4bbf-9781-e43d2e542a9f",
   "metadata": {},
   "outputs": [
    {
     "name": "stdout",
     "output_type": "stream",
     "text": [
      "118\n"
     ]
    }
   ],
   "source": [
    "print(missing_rec)"
   ]
  },
  {
   "cell_type": "code",
   "execution_count": 35,
   "id": "c36e0480-5286-4629-af1e-b6e620a5fe5e",
   "metadata": {},
   "outputs": [],
   "source": [
    "# compute total sales for each store\n",
    "store_sales = train.groupby([\"date\", \"store_nbr\"]).sales.sum().reset_index()\n",
    "\n",
    "# reindex transaction data\n",
    "transactions = transactions.merge(\n",
    "    store_sales,\n",
    "    on=[\"date\", \"store_nbr\"],\n",
    "    how=\"outer\",\n",
    ").sort_values([\"date\", \"store_nbr\"], ignore_index=True)\n",
    "\n",
    "# fill missing values with 0s for days with zero sales\n",
    "transactions.loc[transactions.sales.eq(0), \"transactions\"] = 0.\n",
    "transactions = transactions.drop(columns=[\"sales\"])\n",
    "\n",
    "# fill remaining missing values using linear interpolation\n",
    "transactions.transactions = transactions.groupby(\"store_nbr\", group_keys=False).transactions.apply(\n",
    "    lambda x: x.interpolate(method=\"linear\", limit_direction=\"both\")\n",
    ")"
   ]
  },
  {
   "cell_type": "code",
   "execution_count": 37,
   "id": "f73d7e00-ef77-46f3-8765-7a764339effb",
   "metadata": {},
   "outputs": [],
   "source": [
    "national_locale_name = sorted(holidays_events[holidays_events.locale.eq(\"National\")].locale_name.unique().tolist())\n",
    "regional_locale_name = sorted(holidays_events[holidays_events.locale.eq(\"Regional\")].locale_name.unique().tolist())\n",
    "local_locale_name = sorted(holidays_events[holidays_events.locale.eq(\"Local\")].locale_name.unique().tolist())"
   ]
  },
  {
   "cell_type": "code",
   "execution_count": 38,
   "id": "d8fdb30a-9100-4d12-9fd8-f3f36cae3cf9",
   "metadata": {},
   "outputs": [
    {
     "name": "stdout",
     "output_type": "stream",
     "text": [
      "['Ecuador']\n"
     ]
    }
   ],
   "source": [
    "print(national_locale_name)"
   ]
  },
  {
   "cell_type": "code",
   "execution_count": 39,
   "id": "0daa91c1-e8c6-4ba0-bcb7-0b4d77fee3f1",
   "metadata": {},
   "outputs": [
    {
     "name": "stdout",
     "output_type": "stream",
     "text": [
      "['Cotopaxi', 'Imbabura', 'Santa Elena', 'Santo Domingo de los Tsachilas']\n"
     ]
    }
   ],
   "source": [
    "print(regional_locale_name)"
   ]
  },
  {
   "cell_type": "code",
   "execution_count": 40,
   "id": "b0fbe189-d95a-40bb-8495-e13ea1383a7e",
   "metadata": {},
   "outputs": [
    {
     "name": "stdout",
     "output_type": "stream",
     "text": [
      "['Ambato', 'Cayambe', 'Cuenca', 'El Carmen', 'Esmeraldas', 'Guaranda', 'Guayaquil', 'Ibarra', 'Latacunga', 'Libertad', 'Loja', 'Machala', 'Manta', 'Puyo', 'Quevedo', 'Quito', 'Riobamba', 'Salinas', 'Santo Domingo']\n"
     ]
    }
   ],
   "source": [
    "print(local_locale_name)"
   ]
  },
  {
   "cell_type": "code",
   "execution_count": null,
   "id": "cea81e01-f29a-48ed-9d70-507b5a46a4aa",
   "metadata": {},
   "outputs": [],
   "source": []
  },
  {
   "cell_type": "code",
   "execution_count": null,
   "id": "d0990c42-29bc-492b-8c72-e9a25e53ee56",
   "metadata": {},
   "outputs": [],
   "source": []
  },
  {
   "cell_type": "code",
   "execution_count": null,
   "id": "8c20edf8-6bf5-4418-b7bd-f717a4d9e64b",
   "metadata": {},
   "outputs": [],
   "source": []
  },
  {
   "cell_type": "code",
   "execution_count": null,
   "id": "de847f6c-f643-4942-b1c4-63805f6281c5",
   "metadata": {},
   "outputs": [],
   "source": []
  },
  {
   "cell_type": "code",
   "execution_count": null,
   "id": "057d07d5-71bc-40a1-a683-4fa3e205cdcd",
   "metadata": {},
   "outputs": [],
   "source": []
  },
  {
   "cell_type": "code",
   "execution_count": null,
   "id": "717c766a-6a4f-4cab-bcc5-8684e14a8a72",
   "metadata": {},
   "outputs": [],
   "source": []
  },
  {
   "cell_type": "code",
   "execution_count": null,
   "id": "f35ea36f-c620-4e1c-b73b-57172d17244d",
   "metadata": {},
   "outputs": [],
   "source": []
  },
  {
   "cell_type": "code",
   "execution_count": null,
   "id": "1b650422-02f9-4737-8507-e2239c2a2b08",
   "metadata": {},
   "outputs": [],
   "source": []
  },
  {
   "cell_type": "code",
   "execution_count": null,
   "id": "933d9f68-c47b-472e-b5a7-91a442f6ed70",
   "metadata": {},
   "outputs": [],
   "source": []
  },
  {
   "cell_type": "code",
   "execution_count": null,
   "id": "16f652a9-03b9-4344-80cf-02a7e5e4911a",
   "metadata": {},
   "outputs": [],
   "source": []
  },
  {
   "cell_type": "code",
   "execution_count": null,
   "id": "36099b90-2f1b-4e47-a281-f4a3035d3790",
   "metadata": {},
   "outputs": [],
   "source": []
  },
  {
   "cell_type": "code",
   "execution_count": null,
   "id": "a88db7cd-26dc-4f91-ae67-491407b02896",
   "metadata": {},
   "outputs": [],
   "source": []
  }
 ],
 "metadata": {
  "kernelspec": {
   "display_name": "Python 3 (ipykernel)",
   "language": "python",
   "name": "python3"
  },
  "language_info": {
   "codemirror_mode": {
    "name": "ipython",
    "version": 3
   },
   "file_extension": ".py",
   "mimetype": "text/x-python",
   "name": "python",
   "nbconvert_exporter": "python",
   "pygments_lexer": "ipython3",
   "version": "3.11.7"
  }
 },
 "nbformat": 4,
 "nbformat_minor": 5
}
