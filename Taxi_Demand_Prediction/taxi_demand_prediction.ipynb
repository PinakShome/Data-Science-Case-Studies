{
 "cells": [
  {
   "cell_type": "markdown",
   "id": "a7f25a0c-b873-4034-8418-5b03323877d8",
   "metadata": {},
   "source": [
    "<h1> Business Problem </h3>"
   ]
  },
  {
   "cell_type": "markdown",
   "id": "d2eb8ea5-232f-4ba8-962e-7c3e9e08195b",
   "metadata": {},
   "source": [
    "<h3>Background:</h3>\n",
    "\n",
    "In the highly competitive taxi service industry, operational efficiency, customer satisfaction, and strategic market positioning are crucial for maintaining and enhancing profitability. As urban populations grow and mobility demands evolve, taxi companies face increasing challenges in managing fleet operations, adjusting pricing dynamically, and meeting fluctuating customer demands efficiently.\n",
    "\n",
    "<h3>Problem Statement:</h3>\n",
    "Companies seek to optimize taxi fleet management, resource allocation, and customer service by accurately predicting taxi demand based on historical data and key variables such as location coordinates and time. The objective is to leverage data from previous years (January to March 2015) to forecast taxi pickups for the same period in the subsequent year (January to March 2016), ensuring a strategic advantage in operational planning and market responsiveness.\n",
    "\n",
    "<h3> Objectives:</h3>\n",
    "\n",
    "<h4>Optimization of Taxi Fleet Management:</h4>\n",
    "\n",
    "- Improve the positioning and scheduling of taxis to reduce operational costs and minimize passenger wait times.\n",
    "- Enhance the utilization rate of the fleet by deploying taxis where and when they are most needed.\n",
    "Dynamic Pricing Strategy:\n",
    "\n",
    "- Implement dynamic pricing adjustments during peak demand periods to balance the market, enhance revenue, and manage customer expectations.\n",
    "\n",
    "<h4>Resource Allocation and Driver Scheduling:</h4>\n",
    "\n",
    "- Optimize driver schedules based on predictive demand insights, thereby reducing overheads related to underutilized labor and increasing earnings during high-demand periods.\n",
    "\n",
    "<h4>Urban Planning and Traffic Contribution:</h4>\n",
    "\n",
    "- Provide data-driven insights to city planners and traffic management authorities to aid in the design of more efficient public transportation systems and traffic congestion mitigation.\n",
    "\n",
    "<h4>Customer Service Enhancement:</h4>\n",
    "\n",
    "- Achieve superior customer satisfaction levels by ensuring taxi availability aligns closely with demand, thereby reducing wait times and improving service reliability.\n",
    "  \n",
    "<h4>Innovation and Service Development:</h4>\n",
    "\n",
    "- Utilize predictive insights to identify market trends and develop innovative service offerings such as on-demand carpooling or special event transportation solutions.\n",
    "\n",
    "<h4>Competitive Advantage and Market Share:</h4>\n",
    "\n",
    "- Strengthen market positioning by offering timely and dependable services, differentiating our company from competitors, and potentially increasing market share.\n",
    "  \n",
    "<h3>Expected Outcomes:</h3>\n",
    "\n",
    "By addressing these objectives through predictive analytics, companies anticipate not only an improvement in operational efficiencies and financial performance but also a notable enhancement in customer service quality."
   ]
  },
  {
   "cell_type": "markdown",
   "id": "08ae6dcc-a0a1-45d6-8689-75fd70e9f3d3",
   "metadata": {},
   "source": [
    "<h2> Data Source </h2>\n",
    "\n",
    "https://www.nyc.gov/site/tlc/about/tlc-trip-record-data.page"
   ]
  },
  {
   "cell_type": "markdown",
   "id": "c905ecbd-3205-48da-bfdb-84224cb8dc92",
   "metadata": {},
   "source": [
    "## Information on taxis:\n",
    "\n",
    "<h5> Yellow Taxi: Yellow Medallion Taxicabs</h5>\n",
    "<p> These are the famous NYC yellow taxis that provide transportation exclusively through street-hails. The number of taxicabs is limited by a finite number of medallions issued by the TLC. You access this mode of transportation by standing in the street and hailing an available taxi with your hand. The pickups are not pre-arranged.</p>\n",
    "\n",
    "<h5> For Hire Vehicles (FHVs) </h5>\n",
    "<p> FHV transportation is accessed by a pre-arrangement with a dispatcher or limo company. These FHVs are not permitted to pick up passengers via street hails, as those rides are not considered pre-arranged. </p>\n",
    "\n",
    "<h5> Green Taxi: Street Hail Livery (SHL) </h5>\n",
    "<p>  The SHL program will allow livery vehicle owners to license and outfit their vehicles with green borough taxi branding, meters, credit card machines, and ultimately the right to accept street hails in addition to pre-arranged rides. </p>\n",
    "<p> Credits: Quora</p>\n",
    "\n",
    "<h3>Footnote:</h3>\n",
    "In the given notebook we are considering only the yellow taxis for the time period between Jan - Mar 2015 & Jan - Mar 2016"
   ]
  },
  {
   "cell_type": "markdown",
   "id": "4a0d2385-e20b-4b78-b2ce-38b76e72229f",
   "metadata": {},
   "source": [
    "<h2><b>Exploring data</h2></b>"
   ]
  },
  {
   "cell_type": "code",
   "execution_count": 3,
   "id": "0e591d0e-ae17-4413-bcb9-195cdfad0c6f",
   "metadata": {},
   "outputs": [
    {
     "name": "stderr",
     "output_type": "stream",
     "text": [
      "/opt/anaconda3/envs/Tensorflow/lib/python3.11/site-packages/dask/dataframe/_pyarrow_compat.py:23: UserWarning: You are using pyarrow version 11.0.0 which is known to be insecure. See https://www.cve.org/CVERecord?id=CVE-2023-47248 for further details. Please upgrade to pyarrow>=14.0.1 or install pyarrow-hotfix to patch your current version.\n",
      "  warnings.warn(\n"
     ]
    }
   ],
   "source": [
    "import dask.dataframe as dd\n",
    "df=dd.read_parquet('/Users/pinakshome/Downloads/yellow_tripdata_2015-01.parquet', engine='pyarrow')"
   ]
  },
  {
   "cell_type": "code",
   "execution_count": 4,
   "id": "d7086333-d1d0-4476-a5be-c147dc7ae664",
   "metadata": {},
   "outputs": [
    {
     "data": {
      "text/html": [
       "<div>\n",
       "<style scoped>\n",
       "    .dataframe tbody tr th:only-of-type {\n",
       "        vertical-align: middle;\n",
       "    }\n",
       "\n",
       "    .dataframe tbody tr th {\n",
       "        vertical-align: top;\n",
       "    }\n",
       "\n",
       "    .dataframe thead th {\n",
       "        text-align: right;\n",
       "    }\n",
       "</style>\n",
       "<table border=\"1\" class=\"dataframe\">\n",
       "  <thead>\n",
       "    <tr style=\"text-align: right;\">\n",
       "      <th></th>\n",
       "      <th>VendorID</th>\n",
       "      <th>tpep_pickup_datetime</th>\n",
       "      <th>tpep_dropoff_datetime</th>\n",
       "      <th>passenger_count</th>\n",
       "      <th>trip_distance</th>\n",
       "      <th>RatecodeID</th>\n",
       "      <th>store_and_fwd_flag</th>\n",
       "      <th>PULocationID</th>\n",
       "      <th>DOLocationID</th>\n",
       "      <th>payment_type</th>\n",
       "      <th>fare_amount</th>\n",
       "      <th>extra</th>\n",
       "      <th>mta_tax</th>\n",
       "      <th>tip_amount</th>\n",
       "      <th>tolls_amount</th>\n",
       "      <th>improvement_surcharge</th>\n",
       "      <th>total_amount</th>\n",
       "      <th>congestion_surcharge</th>\n",
       "      <th>airport_fee</th>\n",
       "    </tr>\n",
       "  </thead>\n",
       "  <tbody>\n",
       "    <tr>\n",
       "      <th>0</th>\n",
       "      <td>1</td>\n",
       "      <td>2015-01-01 00:11:33</td>\n",
       "      <td>2015-01-01 00:16:48</td>\n",
       "      <td>1</td>\n",
       "      <td>1.0</td>\n",
       "      <td>1</td>\n",
       "      <td>N</td>\n",
       "      <td>41</td>\n",
       "      <td>166</td>\n",
       "      <td>1</td>\n",
       "      <td>5.7</td>\n",
       "      <td>0.5</td>\n",
       "      <td>0.5</td>\n",
       "      <td>1.40</td>\n",
       "      <td>0.0</td>\n",
       "      <td>0.0</td>\n",
       "      <td>8.40</td>\n",
       "      <td>None</td>\n",
       "      <td>None</td>\n",
       "    </tr>\n",
       "    <tr>\n",
       "      <th>1</th>\n",
       "      <td>1</td>\n",
       "      <td>2015-01-01 00:18:24</td>\n",
       "      <td>2015-01-01 00:24:20</td>\n",
       "      <td>1</td>\n",
       "      <td>0.9</td>\n",
       "      <td>1</td>\n",
       "      <td>N</td>\n",
       "      <td>166</td>\n",
       "      <td>238</td>\n",
       "      <td>3</td>\n",
       "      <td>6.0</td>\n",
       "      <td>0.5</td>\n",
       "      <td>0.5</td>\n",
       "      <td>0.00</td>\n",
       "      <td>0.0</td>\n",
       "      <td>0.0</td>\n",
       "      <td>7.30</td>\n",
       "      <td>None</td>\n",
       "      <td>None</td>\n",
       "    </tr>\n",
       "    <tr>\n",
       "      <th>2</th>\n",
       "      <td>1</td>\n",
       "      <td>2015-01-01 00:26:19</td>\n",
       "      <td>2015-01-01 00:41:06</td>\n",
       "      <td>1</td>\n",
       "      <td>3.5</td>\n",
       "      <td>1</td>\n",
       "      <td>N</td>\n",
       "      <td>238</td>\n",
       "      <td>162</td>\n",
       "      <td>1</td>\n",
       "      <td>13.2</td>\n",
       "      <td>0.5</td>\n",
       "      <td>0.5</td>\n",
       "      <td>2.90</td>\n",
       "      <td>0.0</td>\n",
       "      <td>0.0</td>\n",
       "      <td>17.40</td>\n",
       "      <td>None</td>\n",
       "      <td>None</td>\n",
       "    </tr>\n",
       "    <tr>\n",
       "      <th>3</th>\n",
       "      <td>1</td>\n",
       "      <td>2015-01-01 00:45:26</td>\n",
       "      <td>2015-01-01 00:53:20</td>\n",
       "      <td>1</td>\n",
       "      <td>2.1</td>\n",
       "      <td>1</td>\n",
       "      <td>N</td>\n",
       "      <td>162</td>\n",
       "      <td>263</td>\n",
       "      <td>1</td>\n",
       "      <td>8.2</td>\n",
       "      <td>0.5</td>\n",
       "      <td>0.5</td>\n",
       "      <td>2.37</td>\n",
       "      <td>0.0</td>\n",
       "      <td>0.0</td>\n",
       "      <td>11.87</td>\n",
       "      <td>None</td>\n",
       "      <td>None</td>\n",
       "    </tr>\n",
       "    <tr>\n",
       "      <th>4</th>\n",
       "      <td>1</td>\n",
       "      <td>2015-01-01 00:59:21</td>\n",
       "      <td>2015-01-01 01:05:24</td>\n",
       "      <td>1</td>\n",
       "      <td>1.0</td>\n",
       "      <td>1</td>\n",
       "      <td>N</td>\n",
       "      <td>236</td>\n",
       "      <td>141</td>\n",
       "      <td>3</td>\n",
       "      <td>6.0</td>\n",
       "      <td>0.5</td>\n",
       "      <td>0.5</td>\n",
       "      <td>0.00</td>\n",
       "      <td>0.0</td>\n",
       "      <td>0.0</td>\n",
       "      <td>7.30</td>\n",
       "      <td>None</td>\n",
       "      <td>None</td>\n",
       "    </tr>\n",
       "  </tbody>\n",
       "</table>\n",
       "</div>"
      ],
      "text/plain": [
       "   VendorID tpep_pickup_datetime tpep_dropoff_datetime  passenger_count  \\\n",
       "0         1  2015-01-01 00:11:33   2015-01-01 00:16:48                1   \n",
       "1         1  2015-01-01 00:18:24   2015-01-01 00:24:20                1   \n",
       "2         1  2015-01-01 00:26:19   2015-01-01 00:41:06                1   \n",
       "3         1  2015-01-01 00:45:26   2015-01-01 00:53:20                1   \n",
       "4         1  2015-01-01 00:59:21   2015-01-01 01:05:24                1   \n",
       "\n",
       "   trip_distance  RatecodeID store_and_fwd_flag  PULocationID  DOLocationID  \\\n",
       "0            1.0           1                  N            41           166   \n",
       "1            0.9           1                  N           166           238   \n",
       "2            3.5           1                  N           238           162   \n",
       "3            2.1           1                  N           162           263   \n",
       "4            1.0           1                  N           236           141   \n",
       "\n",
       "   payment_type  fare_amount  extra  mta_tax  tip_amount  tolls_amount  \\\n",
       "0             1          5.7    0.5      0.5        1.40           0.0   \n",
       "1             3          6.0    0.5      0.5        0.00           0.0   \n",
       "2             1         13.2    0.5      0.5        2.90           0.0   \n",
       "3             1          8.2    0.5      0.5        2.37           0.0   \n",
       "4             3          6.0    0.5      0.5        0.00           0.0   \n",
       "\n",
       "   improvement_surcharge  total_amount congestion_surcharge airport_fee  \n",
       "0                    0.0          8.40                 None        None  \n",
       "1                    0.0          7.30                 None        None  \n",
       "2                    0.0         17.40                 None        None  \n",
       "3                    0.0         11.87                 None        None  \n",
       "4                    0.0          7.30                 None        None  "
      ]
     },
     "execution_count": 4,
     "metadata": {},
     "output_type": "execute_result"
    }
   ],
   "source": [
    "df.head()"
   ]
  },
  {
   "cell_type": "markdown",
   "id": "03b157e2-cf54-436c-9c5b-9d0d47c14eb0",
   "metadata": {},
   "source": [
    "<h3><b>Features in the Dataset</h3></b>"
   ]
  },
  {
   "cell_type": "markdown",
   "id": "a7b816cb-1903-4cdd-9946-e32b90929f93",
   "metadata": {},
   "source": [
    "### Data Dictionary - Yellow Taxi Trip Records\n",
    "\n",
    "| Field Name           | Description |\n",
    "|----------------------|-------------|\n",
    "| **VendorID**         | A code indicating the TPEP provider that provided the record. <br>1= Creative Mobile Technologies, LLC <br>2= VeriFone Inc. |\n",
    "| **tpep_pickup_datetime** | The date and time when the meter was engaged. |\n",
    "| **tpep_dropoff_datetime** | The date and time when the meter was disengaged. |\n",
    "| **Passenger_count** | The number of passengers in the vehicle. This is a driver-entered value. |\n",
    "| **Trip_distance** | The elapsed trip distance in miles reported by the taximeter. |\n",
    "| **PULocationID** | TLC Taxi Zone in which the taximeter was engaged. |\n",
    "| **DOLocationID** | TLC Taxi Zone in which the taximeter was disengaged. |\n",
    "| **RateCodeID** | The final rate code in effect at the end of the trip. <br>1= Standard rate <br>2= JFK <br>3= Newark <br>4= Nassau or Westchester <br>5= Negotiated fare <br>6= Group ride |\n",
    "| **Store_and_fwd_flag** | This flag indicates whether the trip record was held in vehicle memory before sending to the vendor, aka “store and forward,” because the vehicle did not have a connection to the server. <br>Y= store and forward trip <br>N= not a store and forward trip |\n",
    "| **Payment_type** | A numeric code signifying how the passenger paid for the trip. <br>1= Credit card <br>2= Cash <br>3= No charge <br>4= Dispute <br>5= Unknown <br>6= Voided trip |\n",
    "| **Fare_amount** | The time-and-distance fare calculated by the meter. |\n",
    "| **Extra** | Miscellaneous extras and surcharges. Currently, this only includes the $0.50 and $1 rush hour and overnight charges. |\n",
    "| **MTA_tax** | $0.50 MTA tax that is automatically triggered based on the metered rate in use. |\n",
    "| **Improvement_surcharge** | $0.30 improvement surcharge assessed trips at the flag drop. The improvement surcharge began being levied in 2015. |\n",
    "| **Tip_amount** | Tip amount – This field is automatically populated for credit card tips. Cash tips are not included. |\n",
    "| **Tolls_amount** | Total amount of all tolls paid in trip. |\n",
    "| **Total_amount** | The total amount charged to passengers. Does not include cash tips. |\n",
    "| **Congestion_Surcharge** | Total amount collected in trip for NYS congestion surcharge. |\n",
    "| **Airport_fee** | $1.25 for pick up only at LaGuardia and John F. Kennedy Airports |\n"
   ]
  },
  {
   "cell_type": "markdown",
   "id": "f4dc07d9-7be0-4aa6-9e95-64037539eabf",
   "metadata": {},
   "source": [
    "<h2><b> Exploring pickup and dropoff outliers</h2></b>"
   ]
  },
  {
   "cell_type": "markdown",
   "id": "e9287c5a-e2f8-40a6-8f0c-974a541e5adb",
   "metadata": {},
   "source": [
    "Zone Lookup Table link-https://d37ci6vzurychx.cloudfront.net/misc/taxi_zone_lookup.csv\n",
    "\n",
    "<h4> After going over the zone lookup table, Location ID's 264 & 265 are outside NYC Zones and hence we will treat them as outliers. Code below to find out outliers in 1/3rd part of our dataset"
   ]
  },
  {
   "cell_type": "code",
   "execution_count": 14,
   "id": "dd9618d8-7332-4680-b691-7f55b2657df0",
   "metadata": {},
   "outputs": [
    {
     "name": "stdout",
     "output_type": "stream",
     "text": [
      "Number of rows with [264, 265] in PULocationID: 249982\n"
     ]
    }
   ],
   "source": [
    "column_name = 'PULocationID'\n",
    "values_to_find = [264, 265]\n",
    "\n",
    "# Counting the rows where the column has these specific values\n",
    "count = df[column_name].isin(values_to_find).sum()\n",
    "\n",
    "print(f'Number of rows with {values_to_find} in {column_name}: {count}')\n"
   ]
  },
  {
   "cell_type": "code",
   "execution_count": 15,
   "id": "921c64e7-3403-4c0d-aeb1-500b4d7c3b05",
   "metadata": {},
   "outputs": [
    {
     "name": "stdout",
     "output_type": "stream",
     "text": [
      "Number of rows with [264, 265] in DOLocationID: 260911\n"
     ]
    }
   ],
   "source": [
    "column_name = 'DOLocationID'\n",
    "values_to_find = [264, 265]\n",
    "\n",
    "# Counting the rows where the column has these specific values\n",
    "count = df[column_name].isin(values_to_find).sum()\n",
    "\n",
    "print(f'Number of rows with {values_to_find} in {column_name}: {count}')"
   ]
  },
  {
   "cell_type": "code",
   "execution_count": 16,
   "id": "8139de7e-fd8c-4f31-a97d-2929af8c6e28",
   "metadata": {},
   "outputs": [
    {
     "data": {
      "text/plain": [
       "12741035"
      ]
     },
     "execution_count": 16,
     "metadata": {},
     "output_type": "execute_result"
    }
   ],
   "source": [
    "len(df)"
   ]
  },
  {
   "cell_type": "markdown",
   "id": "c14aa228-413f-4c2c-ae5a-14fa6b4de4c1",
   "metadata": {},
   "source": [
    "<h2><b>Observations </h2></b>\n",
    "\n",
    "- Out of 12 Million Data points, almost 250k pickups and dropoffs have been outside NYC which is approximately 2% of the dataset"
   ]
  },
  {
   "cell_type": "markdown",
   "id": "439ec07f-4b0b-4bd9-a87a-6fd4d8afd9a4",
   "metadata": {},
   "source": [
    "<h2><b>Trip Durations<h2></b>\n",
    "\n",
    "<p style=\"font-size:18px\">According to NYC Taxi &amp; Limousine Commision Regulations <b style= \"color:blue\">the maximum allowed trip duration in a 24 hour interval is 12 hours.</b> </p>"
   ]
  },
  {
   "cell_type": "code",
   "execution_count": 5,
   "id": "28a32b79-7f43-4d74-87b8-cfb0be713723",
   "metadata": {},
   "outputs": [
    {
     "name": "stderr",
     "output_type": "stream",
     "text": [
      "/var/folders/z0/h3tw1q0x23n78k5s9bv1b7wc0000gn/T/ipykernel_41623/2137877124.py:28: SettingWithCopyWarning: \n",
      "A value is trying to be set on a copy of a slice from a DataFrame\n",
      "\n",
      "See the caveats in the documentation: https://pandas.pydata.org/pandas-docs/stable/user_guide/indexing.html#returning-a-view-versus-a-copy\n",
      "  new_frame.rename(columns={'pickup_unix': 'pickup_times'}, inplace=True)\n"
     ]
    },
    {
     "data": {
      "text/html": [
       "<div>\n",
       "<style scoped>\n",
       "    .dataframe tbody tr th:only-of-type {\n",
       "        vertical-align: middle;\n",
       "    }\n",
       "\n",
       "    .dataframe tbody tr th {\n",
       "        vertical-align: top;\n",
       "    }\n",
       "\n",
       "    .dataframe thead th {\n",
       "        text-align: right;\n",
       "    }\n",
       "</style>\n",
       "<table border=\"1\" class=\"dataframe\">\n",
       "  <thead>\n",
       "    <tr style=\"text-align: right;\">\n",
       "      <th></th>\n",
       "      <th>passenger_count</th>\n",
       "      <th>trip_distance</th>\n",
       "      <th>PULocationID</th>\n",
       "      <th>DOLocationID</th>\n",
       "      <th>total_amount</th>\n",
       "      <th>trip_times</th>\n",
       "      <th>pickup_times</th>\n",
       "      <th>Speed</th>\n",
       "    </tr>\n",
       "  </thead>\n",
       "  <tbody>\n",
       "    <tr>\n",
       "      <th>0</th>\n",
       "      <td>1</td>\n",
       "      <td>1.0</td>\n",
       "      <td>41</td>\n",
       "      <td>166</td>\n",
       "      <td>8.40</td>\n",
       "      <td>5.250000</td>\n",
       "      <td>1.420071e+09</td>\n",
       "      <td>11.428571</td>\n",
       "    </tr>\n",
       "    <tr>\n",
       "      <th>1</th>\n",
       "      <td>1</td>\n",
       "      <td>0.9</td>\n",
       "      <td>166</td>\n",
       "      <td>238</td>\n",
       "      <td>7.30</td>\n",
       "      <td>5.933333</td>\n",
       "      <td>1.420072e+09</td>\n",
       "      <td>9.101124</td>\n",
       "    </tr>\n",
       "    <tr>\n",
       "      <th>2</th>\n",
       "      <td>1</td>\n",
       "      <td>3.5</td>\n",
       "      <td>238</td>\n",
       "      <td>162</td>\n",
       "      <td>17.40</td>\n",
       "      <td>14.783333</td>\n",
       "      <td>1.420072e+09</td>\n",
       "      <td>14.205186</td>\n",
       "    </tr>\n",
       "    <tr>\n",
       "      <th>3</th>\n",
       "      <td>1</td>\n",
       "      <td>2.1</td>\n",
       "      <td>162</td>\n",
       "      <td>263</td>\n",
       "      <td>11.87</td>\n",
       "      <td>7.900000</td>\n",
       "      <td>1.420073e+09</td>\n",
       "      <td>15.949367</td>\n",
       "    </tr>\n",
       "    <tr>\n",
       "      <th>4</th>\n",
       "      <td>1</td>\n",
       "      <td>1.0</td>\n",
       "      <td>236</td>\n",
       "      <td>141</td>\n",
       "      <td>7.30</td>\n",
       "      <td>6.050000</td>\n",
       "      <td>1.420074e+09</td>\n",
       "      <td>9.917355</td>\n",
       "    </tr>\n",
       "  </tbody>\n",
       "</table>\n",
       "</div>"
      ],
      "text/plain": [
       "   passenger_count  trip_distance  PULocationID  DOLocationID  total_amount  \\\n",
       "0                1            1.0            41           166          8.40   \n",
       "1                1            0.9           166           238          7.30   \n",
       "2                1            3.5           238           162         17.40   \n",
       "3                1            2.1           162           263         11.87   \n",
       "4                1            1.0           236           141          7.30   \n",
       "\n",
       "   trip_times  pickup_times      Speed  \n",
       "0    5.250000  1.420071e+09  11.428571  \n",
       "1    5.933333  1.420072e+09   9.101124  \n",
       "2   14.783333  1.420072e+09  14.205186  \n",
       "3    7.900000  1.420073e+09  15.949367  \n",
       "4    6.050000  1.420074e+09   9.917355  "
      ]
     },
     "execution_count": 5,
     "metadata": {},
     "output_type": "execute_result"
    }
   ],
   "source": [
    "import pandas as pd\n",
    "import numpy as np\n",
    "import datetime\n",
    "import time\n",
    "\n",
    "def convert_to_unix(s):\n",
    "    # Convert the input to a Timestamp if it's not already one\n",
    "    datetime_obj = pd.to_datetime(s)\n",
    "    # Use the .timestamp() method to convert the Timestamp to a Unix timestamp\n",
    "    return datetime_obj.timestamp()\n",
    "\n",
    "\n",
    "def return_with_trip_times(df):\n",
    "    # Compute all at once if using Dask, otherwise this is not needed for Pandas\n",
    "    df = df.compute() if hasattr(df, 'compute') else df\n",
    "    \n",
    "    # Convert pickup and dropoff times to unix timestamps\n",
    "    df['pickup_unix'] = df['tpep_pickup_datetime'].apply(convert_to_unix)\n",
    "    df['dropoff_unix'] = df['tpep_dropoff_datetime'].apply(convert_to_unix)\n",
    "    \n",
    "    # Calculate trip duration in minutes and speed in miles per hour\n",
    "    df['trip_times'] = (df['dropoff_unix'] - df['pickup_unix']) / 60\n",
    "    df['Speed'] = df['trip_distance'] / (df['trip_times'] / 60)\n",
    "    \n",
    "    # Select and rename columns accordingly\n",
    "    new_frame = df[['passenger_count', 'trip_distance', 'PULocationID', \n",
    "                       'DOLocationID', 'total_amount', 'trip_times', 'pickup_unix', 'Speed']]\n",
    "    new_frame.rename(columns={'pickup_unix': 'pickup_times'}, inplace=True)\n",
    "    \n",
    "    return new_frame\n",
    "\n",
    "\n",
    "new_frame= return_with_trip_times(df)\n",
    "\n",
    "new_frame.head()"
   ]
  },
  {
   "cell_type": "code",
   "execution_count": 6,
   "id": "248dcc56-5afe-496f-af22-75af2c156572",
   "metadata": {},
   "outputs": [],
   "source": [
    "import seaborn as sns\n",
    "import matplotlib\n",
    "import matplotlib.pylab as plt"
   ]
  },
  {
   "cell_type": "code",
   "execution_count": 7,
   "id": "48237523-9c7b-4047-bedf-f11a2f8ae0d3",
   "metadata": {},
   "outputs": [
    {
     "data": {
      "image/png": "[encoded data removed]",
      "text/plain": [
       "<Figure size 640x480 with 1 Axes>"
      ]
     },
     "metadata": {},
     "output_type": "display_data"
    }
   ],
   "source": [
    "sns.boxplot(y=\"trip_times\", data =new_frame)\n",
    "plt.show()"
   ]
  },
  {
   "cell_type": "code",
   "execution_count": 9,
   "id": "ac99a5fd-3195-40d8-a2da-8e1af54277cc",
   "metadata": {},
   "outputs": [
    {
     "name": "stdout",
     "output_type": "stream",
     "text": [
      "0 percentile value is -1211.0166666666667\n",
      "5 percentile value is 2.85\n",
      "10 percentile value is 3.8333333333333335\n",
      "15 percentile value is 4.633333333333334\n",
      "20 percentile value is 5.383333333333334\n",
      "25 percentile value is 6.1\n",
      "30 percentile value is 6.816666666666666\n",
      "35 percentile value is 7.55\n",
      "40 percentile value is 8.316666666666666\n",
      "45 percentile value is 9.1\n",
      "50 percentile value is 9.95\n",
      "55 percentile value is 10.866666666666667\n",
      "60 percentile value is 11.866666666666667\n",
      "65 percentile value is 13.0\n",
      "70 percentile value is 14.283333333333333\n",
      "75 percentile value is 15.8\n",
      "80 percentile value is 17.633333333333333\n",
      "85 percentile value is 20.016666666666666\n",
      "90 percentile value is 23.45\n",
      "95 percentile value is 29.583333333333332\n",
      "100 percentile value is  548555.6333333333\n"
     ]
    }
   ],
   "source": [
    "#calculating 0-100th percentile to find a the correct percentile value for removal of outliers\n",
    "for i in range(0,100,5):\n",
    "    var =new_frame[\"trip_times\"].values\n",
    "    var = np.sort(var,axis = None)\n",
    "    print(\"{} percentile value is {}\".format(i,var[int(len(var)*(float(i)/100))]))\n",
    "print (\"100 percentile value is \",var[-1])"
   ]
  },
  {
   "cell_type": "code",
   "execution_count": 10,
   "id": "b7d856b7-fbd8-4434-abc9-d1204601e51c",
   "metadata": {},
   "outputs": [
    {
     "name": "stdout",
     "output_type": "stream",
     "text": [
      "95 percentile value is 29.583333333333332\n",
      "96 percentile value is 31.683333333333334\n",
      "97 percentile value is 34.483333333333334\n",
      "98 percentile value is 38.71666666666667\n",
      "99 percentile value is 46.766666666666666\n",
      "100 percentile value is  548555.6333333333\n"
     ]
    }
   ],
   "source": [
    "for i in range(95,100):\n",
    "    var =new_frame[\"trip_times\"].values\n",
    "    var = np.sort(var,axis = None)\n",
    "    print(\"{} percentile value is {}\".format(i,var[int(len(var)*(float(i)/100))]))\n",
    "print (\"100 percentile value is \",var[-1])"
   ]
  },
  {
   "cell_type": "code",
   "execution_count": 12,
   "id": "9537099b-0b4e-43d9-82a8-975b92300fd8",
   "metadata": {},
   "outputs": [],
   "source": [
    "#removing data based on our analysis and TLC regulations\n",
    "new_frame_1=new_frame[(new_frame.trip_times>1) & (new_frame.trip_times<720)]"
   ]
  },
  {
   "cell_type": "code",
   "execution_count": 13,
   "id": "87c2a2ea-5653-4a34-8e62-cb912d0d44c1",
   "metadata": {},
   "outputs": [
    {
     "data": {
      "image/png": "[encoded data removed]",
      "text/plain": [
       "<Figure size 640x480 with 1 Axes>"
      ]
     },
     "metadata": {},
     "output_type": "display_data"
    }
   ],
   "source": [
    "#box-plot after removal of outliers\n",
    "sns.boxplot(y=\"trip_times\", data =new_frame_1)\n",
    "plt.show()"
   ]
  },
  {
   "cell_type": "code",
   "execution_count": 14,
   "id": "852bc7ea-34f5-477e-a796-8a64b0590a61",
   "metadata": {},
   "outputs": [
    {
     "name": "stderr",
     "output_type": "stream",
     "text": [
      "/opt/anaconda3/envs/Tensorflow/lib/python3.11/site-packages/seaborn/_oldcore.py:1119: FutureWarning: use_inf_as_na option is deprecated and will be removed in a future version. Convert inf values to NaN before operating instead.\n",
      "  with pd.option_context('mode.use_inf_as_na', True):\n"
     ]
    },
    {
     "data": {
      "image/png": "[encoded data removed]",
      "text/plain": [
       "<Figure size 611.111x600 with 1 Axes>"
      ]
     },
     "metadata": {},
     "output_type": "display_data"
    }
   ],
   "source": [
    "#pdf of trip-times after removing the outliers\n",
    "sns.FacetGrid(new_frame_1,height=6) \\\n",
    "      .map(sns.kdeplot,\"trip_times\") \\\n",
    "      .add_legend();\n",
    "plt.show();"
   ]
  },
  {
   "cell_type": "code",
   "execution_count": 16,
   "id": "ed064809-1332-4b88-af60-4f0f984e23f1",
   "metadata": {},
   "outputs": [
    {
     "name": "stderr",
     "output_type": "stream",
     "text": [
      "/var/folders/z0/h3tw1q0x23n78k5s9bv1b7wc0000gn/T/ipykernel_41623/3501821937.py:3: SettingWithCopyWarning: \n",
      "A value is trying to be set on a copy of a slice from a DataFrame.\n",
      "Try using .loc[row_indexer,col_indexer] = value instead\n",
      "\n",
      "See the caveats in the documentation: https://pandas.pydata.org/pandas-docs/stable/user_guide/indexing.html#returning-a-view-versus-a-copy\n",
      "  new_frame_1['log_times']=[math.log(i) for i in new_frame_1['trip_times'].values]\n"
     ]
    }
   ],
   "source": [
    "#converting the values to log-values to chec for log-normal\n",
    "import math\n",
    "new_frame_1['log_times']=[math.log(i) for i in new_frame_1['trip_times'].values]"
   ]
  },
  {
   "cell_type": "code",
   "execution_count": 17,
   "id": "419b1fc9-820a-4434-9a22-50a292044e79",
   "metadata": {},
   "outputs": [
    {
     "name": "stderr",
     "output_type": "stream",
     "text": [
      "/opt/anaconda3/envs/Tensorflow/lib/python3.11/site-packages/seaborn/_oldcore.py:1119: FutureWarning: use_inf_as_na option is deprecated and will be removed in a future version. Convert inf values to NaN before operating instead.\n",
      "  with pd.option_context('mode.use_inf_as_na', True):\n"
     ]
    },
    {
     "data": {
      "image/png": "[encoded data removed]",
      "text/plain": [
       "<Figure size 611.111x600 with 1 Axes>"
      ]
     },
     "metadata": {},
     "output_type": "display_data"
    }
   ],
   "source": [
    "#pdf of log-values\n",
    "sns.FacetGrid(new_frame_1,height=6) \\\n",
    "      .map(sns.kdeplot,\"log_times\") \\\n",
    "      .add_legend();\n",
    "plt.show();"
   ]
  },
  {
   "cell_type": "code",
   "execution_count": 19,
   "id": "a8cfa177-cb06-4f5e-a070-5ef0f9453422",
   "metadata": {},
   "outputs": [
    {
     "data": {
      "image/png": "[encoded data removed]",
      "text/plain": [
       "<Figure size 640x480 with 1 Axes>"
      ]
     },
     "metadata": {},
     "output_type": "display_data"
    }
   ],
   "source": [
    "#Q-Q plot for checking if trip-times follow normality\n",
    "import scipy\n",
    "scipy.stats.probplot(new_frame_1['log_times'].values, plot=plt)\n",
    "plt.show()"
   ]
  },
  {
   "cell_type": "markdown",
   "id": "a1432798-2bbc-424e-8369-a16abec4062d",
   "metadata": {
    "scrolled": true
   },
   "source": [
    "<h3> Speed Analysis </h3>"
   ]
  },
  {
   "cell_type": "code",
   "execution_count": 21,
   "id": "88143686-1c3c-485e-8112-0ef70277a64b",
   "metadata": {},
   "outputs": [
    {
     "data": {
      "image/png": "[encoded data removed]",
      "text/plain": [
       "<Figure size 640x480 with 1 Axes>"
      ]
     },
     "metadata": {},
     "output_type": "display_data"
    }
   ],
   "source": [
    "# check for any outliers in the data after trip duration outliers removed\n",
    "# box-plot for speeds with outliers\n",
    "sns.boxplot(y=\"Speed\", data = new_frame_1)\n",
    "plt.show()"
   ]
  },
  {
   "cell_type": "code",
   "execution_count": 23,
   "id": "acbf8b4c-d790-4ecc-956d-b0d79affae4a",
   "metadata": {},
   "outputs": [
    {
     "name": "stdout",
     "output_type": "stream",
     "text": [
      "0 percentile value is 0.0\n",
      "10 percentile value is 6.4125000000000005\n",
      "20 percentile value is 7.811836115326251\n",
      "30 percentile value is 8.930891907855878\n",
      "40 percentile value is 9.981818181818182\n",
      "50 percentile value is 11.069999999999999\n",
      "60 percentile value is 12.287425149700601\n",
      "70 percentile value is 13.797665369649806\n",
      "80 percentile value is 15.964523281596454\n",
      "90 percentile value is 20.188235294117646\n",
      "100 percentile value is  192857142.85714287\n"
     ]
    }
   ],
   "source": [
    "#calculating speed values at each percntile 0,10,20,30,40,50,60,70,80,90,100 \n",
    "for i in range(0,100,10):\n",
    "    var =new_frame_1[\"Speed\"].values\n",
    "    var = np.sort(var,axis = None)\n",
    "    print(\"{} percentile value is {}\".format(i,var[int(len(var)*(float(i)/100))]))\n",
    "print(\"100 percentile value is \",var[-1])"
   ]
  },
  {
   "cell_type": "code",
   "execution_count": 24,
   "id": "fd053d2a-99a2-4fe8-add9-1199ef562ab6",
   "metadata": {},
   "outputs": [
    {
     "name": "stdout",
     "output_type": "stream",
     "text": [
      "99.0 percentile value is 35.75057736720555\n",
      "99.1 percentile value is 36.30984400215169\n",
      "99.2 percentile value is 36.913319238900634\n",
      "99.3 percentile value is 37.58672009158557\n",
      "99.4 percentile value is 38.32894736842106\n",
      "99.5 percentile value is 39.17355371900827\n",
      "99.6 percentile value is 40.151140065146585\n",
      "99.7 percentile value is 41.33464180569185\n",
      "99.8 percentile value is 42.86187845303868\n",
      "99.9 percentile value is 45.29960053262316\n",
      "100 percentile value is  192857142.85714287\n"
     ]
    }
   ],
   "source": [
    "#calculating speed values at each percntile 99.0,99.1,99.2,99.3,99.4,99.5,99.6,99.7,99.8,99.9,100\n",
    "for i in np.arange(0.0, 1.0, 0.1):\n",
    "    var =new_frame_1[\"Speed\"].values\n",
    "    var = np.sort(var,axis = None)\n",
    "    print(\"{} percentile value is {}\".format(99+i,var[int(len(var)*(float(99+i)/100))]))\n",
    "print(\"100 percentile value is \",var[-1])"
   ]
  },
  {
   "cell_type": "code",
   "execution_count": 25,
   "id": "f2031150-bc44-4b1a-90f8-f0efb3e2e225",
   "metadata": {},
   "outputs": [],
   "source": [
    "#removing further outliers based on the 99.9th percentile value\n",
    "new_frame_1=new_frame_1[(new_frame_1.Speed>0) & (new_frame_1.Speed<45.31)]"
   ]
  },
  {
   "cell_type": "code",
   "execution_count": 26,
   "id": "2de5b975-2863-4d67-b10a-fae11cd91e63",
   "metadata": {},
   "outputs": [
    {
     "data": {
      "text/plain": [
       "12.45249702018204"
      ]
     },
     "execution_count": 26,
     "metadata": {},
     "output_type": "execute_result"
    }
   ],
   "source": [
    "#avg.speed of cabs in New-York\n",
    "sum(new_frame_1[\"Speed\"]) / float(len(new_frame_1[\"Speed\"]))"
   ]
  },
  {
   "cell_type": "markdown",
   "id": "148113e1-fc5c-4c41-b0c3-9f99a3b5aaae",
   "metadata": {},
   "source": [
    "<h3> We then follow the exact same procedure for feature name : <b> Trip Distance </h3>"
   ]
  },
  {
   "cell_type": "markdown",
   "id": "2a37b47f-a0b0-4d77-bce8-66a9c143f772",
   "metadata": {},
   "source": [
    "<h3> <b> Total Fare <b> </h3>"
   ]
  },
  {
   "cell_type": "code",
   "execution_count": 27,
   "id": "2af68e44-2acc-4a54-981a-209b457a85be",
   "metadata": {},
   "outputs": [
    {
     "name": "stdout",
     "output_type": "stream",
     "text": [
      "99.0 percentile value is 66.6\n",
      "99.1 percentile value is 68.13\n",
      "99.2 percentile value is 69.6\n",
      "99.3 percentile value is 69.6\n",
      "99.4 percentile value is 69.73\n",
      "99.5 percentile value is 69.76\n",
      "99.6 percentile value is 71.3\n",
      "99.7 percentile value is 72.66\n",
      "99.8 percentile value is 78.05\n",
      "99.9 percentile value is 92.65\n",
      "100 percentile value is  3950611.6\n"
     ]
    }
   ],
   "source": [
    "#calculating total fare amount values at each percntile 99.0,99.1,99.2,99.3,99.4,99.5,99.6,99.7,99.8,99.9,100\n",
    "for i in np.arange(0.0, 1.0, 0.1):\n",
    "    var = new_frame_1[\"total_amount\"].values\n",
    "    var = np.sort(var,axis = None)\n",
    "    print(\"{} percentile value is {}\".format(99+i,var[int(len(var)*(float(99+i)/100))]))\n",
    "print(\"100 percentile value is \",var[-1])"
   ]
  },
  {
   "cell_type": "markdown",
   "id": "12f3f90b-9833-46a0-8be1-e695de476e50",
   "metadata": {},
   "source": [
    "<b>Observation:-</b> As even the 99.9th percentile value doesnt look like an outlier,as there is not much difference between the 99.8th percentile and 99.9th percentile, we move on to do graphical analyis"
   ]
  },
  {
   "cell_type": "code",
   "execution_count": 29,
   "id": "338d0a2b-9802-437f-b3fc-1e44d4f8bcc7",
   "metadata": {},
   "outputs": [
    {
     "data": {
      "image/png": "[encoded data removed]",
      "text/plain": [
       "<Figure size 640x480 with 1 Axes>"
      ]
     },
     "metadata": {},
     "output_type": "display_data"
    }
   ],
   "source": [
    "#below plot shows us the fare values(sorted) to find a sharp increase to remove those values as outliers\n",
    "# plot the fare amount excluding last two values in sorted data\n",
    "plt.plot(var[:-2])\n",
    "plt.show()"
   ]
  },
  {
   "cell_type": "code",
   "execution_count": 30,
   "id": "88f2429f-9a70-4e68-a37f-1b6a4dcf210d",
   "metadata": {},
   "outputs": [
    {
     "data": {
      "image/png": "[encoded data removed]",
      "text/plain": [
       "<Figure size 640x480 with 1 Axes>"
      ]
     },
     "metadata": {},
     "output_type": "display_data"
    }
   ],
   "source": [
    "#now looking at values not including the last two points we again find a drastic increase at around 1000 fare value\n",
    "# we plot last 50 values excluding last two values\n",
    "plt.plot(var[-50:-2])\n",
    "plt.show()"
   ]
  },
  {
   "cell_type": "markdown",
   "id": "d321647b-e93e-4741-8c2f-40ab7e2e8b97",
   "metadata": {},
   "source": [
    "<h2> <b> Removing all outliers <b> </h2>"
   ]
  },
  {
   "cell_type": "code",
   "execution_count": 31,
   "id": "92dd475b-75f3-4cd1-86b1-6e1f128a744b",
   "metadata": {},
   "outputs": [],
   "source": [
    "#removing all outliers based on our univariate analysis above\n",
    "def remove_outliers(new_frame):\n",
    "\n",
    "    \n",
    "    a = new_frame.shape[0]\n",
    "    print (\"Number of pickup records = \",a)\n",
    "    temp_frame = new_frame[((new_frame.DOLocationID < 264) & (new_frame.PULocationID < 264))]\n",
    "    b = temp_frame.shape[0]\n",
    "    print (\"Number of outlier coordinates lying outside NY boundaries:\",(a-b))\n",
    "\n",
    "    \n",
    "    temp_frame = new_frame[(new_frame.trip_times > 0) & (new_frame.trip_times < 720)]\n",
    "    c = temp_frame.shape[0]\n",
    "    print (\"Number of outliers from trip times analysis:\",(a-c))\n",
    "    \n",
    "    \n",
    "    temp_frame = new_frame[(new_frame.trip_distance > 0) & (new_frame.trip_distance < 23)]\n",
    "    d = temp_frame.shape[0]\n",
    "    print (\"Number of outliers from trip distance analysis:\",(a-d))\n",
    "    \n",
    "    temp_frame = new_frame[(new_frame.Speed <= 65) & (new_frame.Speed >= 0)]\n",
    "    e = temp_frame.shape[0]\n",
    "    print (\"Number of outliers from speed analysis:\",(a-e))\n",
    "    \n",
    "    temp_frame = new_frame[(new_frame.total_amount <1000) & (new_frame.total_amount >0)]\n",
    "    f = temp_frame.shape[0]\n",
    "    print (\"Number of outliers from fare analysis:\",(a-f))\n",
    "    \n",
    "    \n",
    "    new_frame = new_frame[((new_frame.DOLocationID < 264) & (new_frame.PULocationID < 264))]\n",
    "    \n",
    "    new_frame = new_frame[(new_frame.trip_times > 0) & (new_frame.trip_times < 720)]\n",
    "    new_frame = new_frame[(new_frame.trip_distance > 0) & (new_frame.trip_distance < 23)]\n",
    "    new_frame = new_frame[(new_frame.Speed < 45.31) & (new_frame.Speed > 0)]\n",
    "    new_frame = new_frame[(new_frame.total_amount <1000) & (new_frame.total_amount >0)]\n",
    "    \n",
    "    print (\"Total outliers removed\",a - new_frame.shape[0])\n",
    "    print (\"---\")\n",
    "    return new_frame"
   ]
  },
  {
   "cell_type": "code",
   "execution_count": 33,
   "id": "d647bce0-3985-46e9-b453-205e6cbac92a",
   "metadata": {},
   "outputs": [
    {
     "name": "stdout",
     "output_type": "stream",
     "text": [
      "Removing outliers in the month of Jan-2015\n",
      "----\n",
      "Number of pickup records =  12741035\n",
      "Number of outlier coordinates lying outside NY boundaries: 290547\n",
      "Number of outliers from trip times analysis: 23253\n",
      "Number of outliers from trip distance analysis: 86624\n",
      "Number of outliers from speed analysis: 23715\n",
      "Number of outliers from fare analysis: 4423\n",
      "Total outliers removed 368913\n",
      "---\n",
      "fraction of data points that remain after removing outliers 0.9710452879220566\n"
     ]
    }
   ],
   "source": [
    "print (\"Removing outliers in the month of Jan-2015\")\n",
    "print (\"----\")\n",
    "new_frame_2 = remove_outliers(new_frame)\n",
    "print(\"fraction of data points that remain after removing outliers\", float(len(new_frame_2))/len(new_frame))"
   ]
  },
  {
   "cell_type": "code",
   "execution_count": 34,
   "id": "21338524-d300-44fb-9e20-5e165c942588",
   "metadata": {},
   "outputs": [
    {
     "data": {
      "text/html": [
       "<div>\n",
       "<style scoped>\n",
       "    .dataframe tbody tr th:only-of-type {\n",
       "        vertical-align: middle;\n",
       "    }\n",
       "\n",
       "    .dataframe tbody tr th {\n",
       "        vertical-align: top;\n",
       "    }\n",
       "\n",
       "    .dataframe thead th {\n",
       "        text-align: right;\n",
       "    }\n",
       "</style>\n",
       "<table border=\"1\" class=\"dataframe\">\n",
       "  <thead>\n",
       "    <tr style=\"text-align: right;\">\n",
       "      <th></th>\n",
       "      <th>passenger_count</th>\n",
       "      <th>trip_distance</th>\n",
       "      <th>PULocationID</th>\n",
       "      <th>DOLocationID</th>\n",
       "      <th>total_amount</th>\n",
       "      <th>trip_times</th>\n",
       "      <th>pickup_times</th>\n",
       "      <th>Speed</th>\n",
       "    </tr>\n",
       "  </thead>\n",
       "  <tbody>\n",
       "    <tr>\n",
       "      <th>0</th>\n",
       "      <td>1</td>\n",
       "      <td>1.0</td>\n",
       "      <td>41</td>\n",
       "      <td>166</td>\n",
       "      <td>8.40</td>\n",
       "      <td>5.250000</td>\n",
       "      <td>1.420071e+09</td>\n",
       "      <td>11.428571</td>\n",
       "    </tr>\n",
       "    <tr>\n",
       "      <th>1</th>\n",
       "      <td>1</td>\n",
       "      <td>0.9</td>\n",
       "      <td>166</td>\n",
       "      <td>238</td>\n",
       "      <td>7.30</td>\n",
       "      <td>5.933333</td>\n",
       "      <td>1.420072e+09</td>\n",
       "      <td>9.101124</td>\n",
       "    </tr>\n",
       "    <tr>\n",
       "      <th>2</th>\n",
       "      <td>1</td>\n",
       "      <td>3.5</td>\n",
       "      <td>238</td>\n",
       "      <td>162</td>\n",
       "      <td>17.40</td>\n",
       "      <td>14.783333</td>\n",
       "      <td>1.420072e+09</td>\n",
       "      <td>14.205186</td>\n",
       "    </tr>\n",
       "    <tr>\n",
       "      <th>3</th>\n",
       "      <td>1</td>\n",
       "      <td>2.1</td>\n",
       "      <td>162</td>\n",
       "      <td>263</td>\n",
       "      <td>11.87</td>\n",
       "      <td>7.900000</td>\n",
       "      <td>1.420073e+09</td>\n",
       "      <td>15.949367</td>\n",
       "    </tr>\n",
       "    <tr>\n",
       "      <th>4</th>\n",
       "      <td>1</td>\n",
       "      <td>1.0</td>\n",
       "      <td>236</td>\n",
       "      <td>141</td>\n",
       "      <td>7.30</td>\n",
       "      <td>6.050000</td>\n",
       "      <td>1.420074e+09</td>\n",
       "      <td>9.917355</td>\n",
       "    </tr>\n",
       "  </tbody>\n",
       "</table>\n",
       "</div>"
      ],
      "text/plain": [
       "   passenger_count  trip_distance  PULocationID  DOLocationID  total_amount  \\\n",
       "0                1            1.0            41           166          8.40   \n",
       "1                1            0.9           166           238          7.30   \n",
       "2                1            3.5           238           162         17.40   \n",
       "3                1            2.1           162           263         11.87   \n",
       "4                1            1.0           236           141          7.30   \n",
       "\n",
       "   trip_times  pickup_times      Speed  \n",
       "0    5.250000  1.420071e+09  11.428571  \n",
       "1    5.933333  1.420072e+09   9.101124  \n",
       "2   14.783333  1.420072e+09  14.205186  \n",
       "3    7.900000  1.420073e+09  15.949367  \n",
       "4    6.050000  1.420074e+09   9.917355  "
      ]
     },
     "execution_count": 34,
     "metadata": {},
     "output_type": "execute_result"
    }
   ],
   "source": [
    "new_frame_2.head()"
   ]
  },
  {
   "cell_type": "markdown",
   "id": "8628175e-0ba0-4051-9f67-f2e0573fb69e",
   "metadata": {},
   "source": [
    "<h2> <b> Uploading Zone lookup table and alligning it with PULocation ID and DOLocationID </b></h3>"
   ]
  },
  {
   "cell_type": "code",
   "execution_count": 35,
   "id": "902066a6-579b-4b5a-ad3a-7a6e352a4b1c",
   "metadata": {},
   "outputs": [],
   "source": [
    "zone_lookup=pd.read_csv('/Users/pinakshome/Downloads/taxi_zone_lookup.csv')"
   ]
  },
  {
   "cell_type": "code",
   "execution_count": 36,
   "id": "32e12f48-f500-49de-b92e-d36adb1f6498",
   "metadata": {},
   "outputs": [
    {
     "data": {
      "text/html": [
       "<div>\n",
       "<style scoped>\n",
       "    .dataframe tbody tr th:only-of-type {\n",
       "        vertical-align: middle;\n",
       "    }\n",
       "\n",
       "    .dataframe tbody tr th {\n",
       "        vertical-align: top;\n",
       "    }\n",
       "\n",
       "    .dataframe thead th {\n",
       "        text-align: right;\n",
       "    }\n",
       "</style>\n",
       "<table border=\"1\" class=\"dataframe\">\n",
       "  <thead>\n",
       "    <tr style=\"text-align: right;\">\n",
       "      <th></th>\n",
       "      <th>LocationID</th>\n",
       "      <th>Borough</th>\n",
       "      <th>Zone</th>\n",
       "      <th>service_zone</th>\n",
       "    </tr>\n",
       "  </thead>\n",
       "  <tbody>\n",
       "    <tr>\n",
       "      <th>0</th>\n",
       "      <td>1</td>\n",
       "      <td>EWR</td>\n",
       "      <td>Newark Airport</td>\n",
       "      <td>EWR</td>\n",
       "    </tr>\n",
       "    <tr>\n",
       "      <th>1</th>\n",
       "      <td>2</td>\n",
       "      <td>Queens</td>\n",
       "      <td>Jamaica Bay</td>\n",
       "      <td>Boro Zone</td>\n",
       "    </tr>\n",
       "    <tr>\n",
       "      <th>2</th>\n",
       "      <td>3</td>\n",
       "      <td>Bronx</td>\n",
       "      <td>Allerton/Pelham Gardens</td>\n",
       "      <td>Boro Zone</td>\n",
       "    </tr>\n",
       "    <tr>\n",
       "      <th>3</th>\n",
       "      <td>4</td>\n",
       "      <td>Manhattan</td>\n",
       "      <td>Alphabet City</td>\n",
       "      <td>Yellow Zone</td>\n",
       "    </tr>\n",
       "    <tr>\n",
       "      <th>4</th>\n",
       "      <td>5</td>\n",
       "      <td>Staten Island</td>\n",
       "      <td>Arden Heights</td>\n",
       "      <td>Boro Zone</td>\n",
       "    </tr>\n",
       "  </tbody>\n",
       "</table>\n",
       "</div>"
      ],
      "text/plain": [
       "   LocationID        Borough                     Zone service_zone\n",
       "0           1            EWR           Newark Airport          EWR\n",
       "1           2         Queens              Jamaica Bay    Boro Zone\n",
       "2           3          Bronx  Allerton/Pelham Gardens    Boro Zone\n",
       "3           4      Manhattan            Alphabet City  Yellow Zone\n",
       "4           5  Staten Island            Arden Heights    Boro Zone"
      ]
     },
     "execution_count": 36,
     "metadata": {},
     "output_type": "execute_result"
    }
   ],
   "source": [
    "zone_lookup.head()"
   ]
  },
  {
   "cell_type": "code",
   "execution_count": 37,
   "id": "c9de3b9b-e036-4fcc-b5ca-017edf859c48",
   "metadata": {},
   "outputs": [
    {
     "data": {
      "text/html": [
       "<div>\n",
       "<style scoped>\n",
       "    .dataframe tbody tr th:only-of-type {\n",
       "        vertical-align: middle;\n",
       "    }\n",
       "\n",
       "    .dataframe tbody tr th {\n",
       "        vertical-align: top;\n",
       "    }\n",
       "\n",
       "    .dataframe thead th {\n",
       "        text-align: right;\n",
       "    }\n",
       "</style>\n",
       "<table border=\"1\" class=\"dataframe\">\n",
       "  <thead>\n",
       "    <tr style=\"text-align: right;\">\n",
       "      <th></th>\n",
       "      <th>passenger_count</th>\n",
       "      <th>trip_distance</th>\n",
       "      <th>PULocationID</th>\n",
       "      <th>DOLocationID</th>\n",
       "      <th>total_amount</th>\n",
       "      <th>trip_times</th>\n",
       "      <th>pickup_times</th>\n",
       "      <th>Speed</th>\n",
       "      <th>Pickup Zone</th>\n",
       "      <th>Dropoff Zone</th>\n",
       "    </tr>\n",
       "  </thead>\n",
       "  <tbody>\n",
       "    <tr>\n",
       "      <th>0</th>\n",
       "      <td>1</td>\n",
       "      <td>1.0</td>\n",
       "      <td>41</td>\n",
       "      <td>166</td>\n",
       "      <td>8.40</td>\n",
       "      <td>5.250000</td>\n",
       "      <td>1.420071e+09</td>\n",
       "      <td>11.428571</td>\n",
       "      <td>Central Harlem</td>\n",
       "      <td>Morningside Heights</td>\n",
       "    </tr>\n",
       "    <tr>\n",
       "      <th>1</th>\n",
       "      <td>1</td>\n",
       "      <td>0.9</td>\n",
       "      <td>166</td>\n",
       "      <td>238</td>\n",
       "      <td>7.30</td>\n",
       "      <td>5.933333</td>\n",
       "      <td>1.420072e+09</td>\n",
       "      <td>9.101124</td>\n",
       "      <td>Morningside Heights</td>\n",
       "      <td>Upper West Side North</td>\n",
       "    </tr>\n",
       "    <tr>\n",
       "      <th>2</th>\n",
       "      <td>1</td>\n",
       "      <td>3.5</td>\n",
       "      <td>238</td>\n",
       "      <td>162</td>\n",
       "      <td>17.40</td>\n",
       "      <td>14.783333</td>\n",
       "      <td>1.420072e+09</td>\n",
       "      <td>14.205186</td>\n",
       "      <td>Upper West Side North</td>\n",
       "      <td>Midtown East</td>\n",
       "    </tr>\n",
       "    <tr>\n",
       "      <th>3</th>\n",
       "      <td>1</td>\n",
       "      <td>2.1</td>\n",
       "      <td>162</td>\n",
       "      <td>263</td>\n",
       "      <td>11.87</td>\n",
       "      <td>7.900000</td>\n",
       "      <td>1.420073e+09</td>\n",
       "      <td>15.949367</td>\n",
       "      <td>Midtown East</td>\n",
       "      <td>Yorkville West</td>\n",
       "    </tr>\n",
       "    <tr>\n",
       "      <th>4</th>\n",
       "      <td>1</td>\n",
       "      <td>1.0</td>\n",
       "      <td>236</td>\n",
       "      <td>141</td>\n",
       "      <td>7.30</td>\n",
       "      <td>6.050000</td>\n",
       "      <td>1.420074e+09</td>\n",
       "      <td>9.917355</td>\n",
       "      <td>Upper East Side North</td>\n",
       "      <td>Lenox Hill West</td>\n",
       "    </tr>\n",
       "    <tr>\n",
       "      <th>...</th>\n",
       "      <td>...</td>\n",
       "      <td>...</td>\n",
       "      <td>...</td>\n",
       "      <td>...</td>\n",
       "      <td>...</td>\n",
       "      <td>...</td>\n",
       "      <td>...</td>\n",
       "      <td>...</td>\n",
       "      <td>...</td>\n",
       "      <td>...</td>\n",
       "    </tr>\n",
       "    <tr>\n",
       "      <th>12741030</th>\n",
       "      <td>1</td>\n",
       "      <td>1.6</td>\n",
       "      <td>90</td>\n",
       "      <td>249</td>\n",
       "      <td>11.62</td>\n",
       "      <td>9.300000</td>\n",
       "      <td>1.422747e+09</td>\n",
       "      <td>10.322581</td>\n",
       "      <td>Flatiron</td>\n",
       "      <td>West Village</td>\n",
       "    </tr>\n",
       "    <tr>\n",
       "      <th>12741031</th>\n",
       "      <td>1</td>\n",
       "      <td>0.6</td>\n",
       "      <td>90</td>\n",
       "      <td>68</td>\n",
       "      <td>8.76</td>\n",
       "      <td>6.816667</td>\n",
       "      <td>1.422748e+09</td>\n",
       "      <td>5.281174</td>\n",
       "      <td>Flatiron</td>\n",
       "      <td>East Chelsea</td>\n",
       "    </tr>\n",
       "    <tr>\n",
       "      <th>12741032</th>\n",
       "      <td>1</td>\n",
       "      <td>3.0</td>\n",
       "      <td>68</td>\n",
       "      <td>148</td>\n",
       "      <td>20.37</td>\n",
       "      <td>21.483333</td>\n",
       "      <td>1.422749e+09</td>\n",
       "      <td>8.378588</td>\n",
       "      <td>East Chelsea</td>\n",
       "      <td>Lower East Side</td>\n",
       "    </tr>\n",
       "    <tr>\n",
       "      <th>12741033</th>\n",
       "      <td>1</td>\n",
       "      <td>6.9</td>\n",
       "      <td>189</td>\n",
       "      <td>237</td>\n",
       "      <td>39.80</td>\n",
       "      <td>46.700000</td>\n",
       "      <td>1.422746e+09</td>\n",
       "      <td>8.865096</td>\n",
       "      <td>Prospect Heights</td>\n",
       "      <td>Upper East Side South</td>\n",
       "    </tr>\n",
       "    <tr>\n",
       "      <th>12741034</th>\n",
       "      <td>1</td>\n",
       "      <td>3.6</td>\n",
       "      <td>162</td>\n",
       "      <td>145</td>\n",
       "      <td>19.55</td>\n",
       "      <td>16.616667</td>\n",
       "      <td>1.422748e+09</td>\n",
       "      <td>12.998997</td>\n",
       "      <td>Midtown East</td>\n",
       "      <td>Long Island City/Hunters Point</td>\n",
       "    </tr>\n",
       "  </tbody>\n",
       "</table>\n",
       "<p>12372122 rows × 10 columns</p>\n",
       "</div>"
      ],
      "text/plain": [
       "          passenger_count  trip_distance  PULocationID  DOLocationID  \\\n",
       "0                       1            1.0            41           166   \n",
       "1                       1            0.9           166           238   \n",
       "2                       1            3.5           238           162   \n",
       "3                       1            2.1           162           263   \n",
       "4                       1            1.0           236           141   \n",
       "...                   ...            ...           ...           ...   \n",
       "12741030                1            1.6            90           249   \n",
       "12741031                1            0.6            90            68   \n",
       "12741032                1            3.0            68           148   \n",
       "12741033                1            6.9           189           237   \n",
       "12741034                1            3.6           162           145   \n",
       "\n",
       "          total_amount  trip_times  pickup_times      Speed  \\\n",
       "0                 8.40    5.250000  1.420071e+09  11.428571   \n",
       "1                 7.30    5.933333  1.420072e+09   9.101124   \n",
       "2                17.40   14.783333  1.420072e+09  14.205186   \n",
       "3                11.87    7.900000  1.420073e+09  15.949367   \n",
       "4                 7.30    6.050000  1.420074e+09   9.917355   \n",
       "...                ...         ...           ...        ...   \n",
       "12741030         11.62    9.300000  1.422747e+09  10.322581   \n",
       "12741031          8.76    6.816667  1.422748e+09   5.281174   \n",
       "12741032         20.37   21.483333  1.422749e+09   8.378588   \n",
       "12741033         39.80   46.700000  1.422746e+09   8.865096   \n",
       "12741034         19.55   16.616667  1.422748e+09  12.998997   \n",
       "\n",
       "                    Pickup Zone                    Dropoff Zone  \n",
       "0                Central Harlem             Morningside Heights  \n",
       "1           Morningside Heights           Upper West Side North  \n",
       "2         Upper West Side North                    Midtown East  \n",
       "3                  Midtown East                  Yorkville West  \n",
       "4         Upper East Side North                 Lenox Hill West  \n",
       "...                         ...                             ...  \n",
       "12741030               Flatiron                    West Village  \n",
       "12741031               Flatiron                    East Chelsea  \n",
       "12741032           East Chelsea                 Lower East Side  \n",
       "12741033       Prospect Heights           Upper East Side South  \n",
       "12741034           Midtown East  Long Island City/Hunters Point  \n",
       "\n",
       "[12372122 rows x 10 columns]"
      ]
     },
     "execution_count": 37,
     "metadata": {},
     "output_type": "execute_result"
    }
   ],
   "source": [
    "# Performing the merge to map PULocationID and DOLocationID to their respective zones\n",
    "# First, we'll create dictionaries from the zone lookup table for quick mapping\n",
    "pu_location_to_zone = dict(zip(zone_lookup.LocationID, zone_lookup.Zone))\n",
    "do_location_to_zone = pu_location_to_zone  # The same mapping applies for dropoff\n",
    "\n",
    "# Now, mapping the zones using the dictionaries\n",
    "new_frame_2['Pickup Zone'] = new_frame_2['PULocationID'].map(pu_location_to_zone)\n",
    "new_frame_2['Dropoff Zone'] = new_frame_2['DOLocationID'].map(do_location_to_zone)\n",
    "\n",
    "# Displaying the updated main dataframe with 'Pickup Zone' and 'Dropoff Zone' columns\n",
    "new_frame_2\n"
   ]
  },
  {
   "cell_type": "markdown",
   "id": "c371f923-66bc-4bb3-b953-e2380529f58f",
   "metadata": {},
   "source": [
    "<h3> <b> Time Binning <b> </h3>"
   ]
  },
  {
   "cell_type": "code",
   "execution_count": 38,
   "id": "0f5888ca-f439-4c58-89d2-9affa6e20648",
   "metadata": {},
   "outputs": [],
   "source": [
    "def add_pickup_bins(frame,month,year):\n",
    "    unix_pickup_times=[i for i in frame['pickup_times'].values]\n",
    "    unix_times = [[1420070400,1422748800,1425168000,1427846400,1430438400,1433116800],\\\n",
    "                    [1451606400,1454284800,1456790400,1459468800,1462060800,1464739200]]\n",
    "    \n",
    "    start_pickup_unix=unix_times[year-2015][month-1]\n",
    "    # https://www.timeanddate.com/time/zones/est\n",
    "    # (int((i-start_pickup_unix)/600)+33) : our unix time is in gmt to we are converting it to est\n",
    "    tenminutewise_binned_unix_pickup_times=[(int((i-start_pickup_unix)/600)+33) for i in unix_pickup_times]\n",
    "    frame['pickup_bins'] = np.array(tenminutewise_binned_unix_pickup_times)\n",
    "    return frame"
   ]
  },
  {
   "cell_type": "code",
   "execution_count": 39,
   "id": "b1dcbeb9-0190-4741-8877-0f77b470c307",
   "metadata": {},
   "outputs": [],
   "source": [
    "J_15 = add_pickup_bins(new_frame_2,1,2015)"
   ]
  },
  {
   "cell_type": "code",
   "execution_count": 40,
   "id": "3a17d23a-6d3f-4cc7-b58e-483dbd769c62",
   "metadata": {},
   "outputs": [
    {
     "data": {
      "text/html": [
       "<div>\n",
       "<style scoped>\n",
       "    .dataframe tbody tr th:only-of-type {\n",
       "        vertical-align: middle;\n",
       "    }\n",
       "\n",
       "    .dataframe tbody tr th {\n",
       "        vertical-align: top;\n",
       "    }\n",
       "\n",
       "    .dataframe thead th {\n",
       "        text-align: right;\n",
       "    }\n",
       "</style>\n",
       "<table border=\"1\" class=\"dataframe\">\n",
       "  <thead>\n",
       "    <tr style=\"text-align: right;\">\n",
       "      <th></th>\n",
       "      <th>passenger_count</th>\n",
       "      <th>trip_distance</th>\n",
       "      <th>PULocationID</th>\n",
       "      <th>DOLocationID</th>\n",
       "      <th>total_amount</th>\n",
       "      <th>trip_times</th>\n",
       "      <th>pickup_times</th>\n",
       "      <th>Speed</th>\n",
       "      <th>Pickup Zone</th>\n",
       "      <th>Dropoff Zone</th>\n",
       "      <th>pickup_bins</th>\n",
       "    </tr>\n",
       "  </thead>\n",
       "  <tbody>\n",
       "    <tr>\n",
       "      <th>0</th>\n",
       "      <td>1</td>\n",
       "      <td>1.0</td>\n",
       "      <td>41</td>\n",
       "      <td>166</td>\n",
       "      <td>8.40</td>\n",
       "      <td>5.250000</td>\n",
       "      <td>1.420071e+09</td>\n",
       "      <td>11.428571</td>\n",
       "      <td>Central Harlem</td>\n",
       "      <td>Morningside Heights</td>\n",
       "      <td>34</td>\n",
       "    </tr>\n",
       "    <tr>\n",
       "      <th>1</th>\n",
       "      <td>1</td>\n",
       "      <td>0.9</td>\n",
       "      <td>166</td>\n",
       "      <td>238</td>\n",
       "      <td>7.30</td>\n",
       "      <td>5.933333</td>\n",
       "      <td>1.420072e+09</td>\n",
       "      <td>9.101124</td>\n",
       "      <td>Morningside Heights</td>\n",
       "      <td>Upper West Side North</td>\n",
       "      <td>34</td>\n",
       "    </tr>\n",
       "    <tr>\n",
       "      <th>2</th>\n",
       "      <td>1</td>\n",
       "      <td>3.5</td>\n",
       "      <td>238</td>\n",
       "      <td>162</td>\n",
       "      <td>17.40</td>\n",
       "      <td>14.783333</td>\n",
       "      <td>1.420072e+09</td>\n",
       "      <td>14.205186</td>\n",
       "      <td>Upper West Side North</td>\n",
       "      <td>Midtown East</td>\n",
       "      <td>35</td>\n",
       "    </tr>\n",
       "    <tr>\n",
       "      <th>3</th>\n",
       "      <td>1</td>\n",
       "      <td>2.1</td>\n",
       "      <td>162</td>\n",
       "      <td>263</td>\n",
       "      <td>11.87</td>\n",
       "      <td>7.900000</td>\n",
       "      <td>1.420073e+09</td>\n",
       "      <td>15.949367</td>\n",
       "      <td>Midtown East</td>\n",
       "      <td>Yorkville West</td>\n",
       "      <td>37</td>\n",
       "    </tr>\n",
       "    <tr>\n",
       "      <th>4</th>\n",
       "      <td>1</td>\n",
       "      <td>1.0</td>\n",
       "      <td>236</td>\n",
       "      <td>141</td>\n",
       "      <td>7.30</td>\n",
       "      <td>6.050000</td>\n",
       "      <td>1.420074e+09</td>\n",
       "      <td>9.917355</td>\n",
       "      <td>Upper East Side North</td>\n",
       "      <td>Lenox Hill West</td>\n",
       "      <td>38</td>\n",
       "    </tr>\n",
       "  </tbody>\n",
       "</table>\n",
       "</div>"
      ],
      "text/plain": [
       "   passenger_count  trip_distance  PULocationID  DOLocationID  total_amount  \\\n",
       "0                1            1.0            41           166          8.40   \n",
       "1                1            0.9           166           238          7.30   \n",
       "2                1            3.5           238           162         17.40   \n",
       "3                1            2.1           162           263         11.87   \n",
       "4                1            1.0           236           141          7.30   \n",
       "\n",
       "   trip_times  pickup_times      Speed            Pickup Zone  \\\n",
       "0    5.250000  1.420071e+09  11.428571         Central Harlem   \n",
       "1    5.933333  1.420072e+09   9.101124    Morningside Heights   \n",
       "2   14.783333  1.420072e+09  14.205186  Upper West Side North   \n",
       "3    7.900000  1.420073e+09  15.949367           Midtown East   \n",
       "4    6.050000  1.420074e+09   9.917355  Upper East Side North   \n",
       "\n",
       "            Dropoff Zone  pickup_bins  \n",
       "0    Morningside Heights           34  \n",
       "1  Upper West Side North           34  \n",
       "2           Midtown East           35  \n",
       "3         Yorkville West           37  \n",
       "4        Lenox Hill West           38  "
      ]
     },
     "execution_count": 40,
     "metadata": {},
     "output_type": "execute_result"
    }
   ],
   "source": [
    "J_15.head()"
   ]
  },
  {
   "cell_type": "code",
   "execution_count": 45,
   "id": "14eb98d2-4d49-470e-b18d-08cfb3484514",
   "metadata": {},
   "outputs": [
    {
     "data": {
      "text/plain": [
       "33"
      ]
     },
     "execution_count": 45,
     "metadata": {},
     "output_type": "execute_result"
    }
   ],
   "source": [
    "min(J_15['pickup_bins'].unique())"
   ]
  },
  {
   "cell_type": "code",
   "execution_count": 48,
   "id": "577730cd-2f7c-4012-a6bd-21d911451939",
   "metadata": {},
   "outputs": [],
   "source": [
    "J_15 = J_15.drop(['Dropoff Zone'],axis=1)"
   ]
  },
  {
   "cell_type": "code",
   "execution_count": 49,
   "id": "9ca706c1-fe1a-4d2f-a517-29998aeb09f4",
   "metadata": {},
   "outputs": [
    {
     "data": {
      "text/html": [
       "<div>\n",
       "<style scoped>\n",
       "    .dataframe tbody tr th:only-of-type {\n",
       "        vertical-align: middle;\n",
       "    }\n",
       "\n",
       "    .dataframe tbody tr th {\n",
       "        vertical-align: top;\n",
       "    }\n",
       "\n",
       "    .dataframe thead th {\n",
       "        text-align: right;\n",
       "    }\n",
       "</style>\n",
       "<table border=\"1\" class=\"dataframe\">\n",
       "  <thead>\n",
       "    <tr style=\"text-align: right;\">\n",
       "      <th></th>\n",
       "      <th>passenger_count</th>\n",
       "      <th>trip_distance</th>\n",
       "      <th>PULocationID</th>\n",
       "      <th>DOLocationID</th>\n",
       "      <th>total_amount</th>\n",
       "      <th>trip_times</th>\n",
       "      <th>pickup_times</th>\n",
       "      <th>Speed</th>\n",
       "      <th>Pickup Zone</th>\n",
       "      <th>pickup_bins</th>\n",
       "    </tr>\n",
       "  </thead>\n",
       "  <tbody>\n",
       "    <tr>\n",
       "      <th>0</th>\n",
       "      <td>1</td>\n",
       "      <td>1.0</td>\n",
       "      <td>41</td>\n",
       "      <td>166</td>\n",
       "      <td>8.40</td>\n",
       "      <td>5.250000</td>\n",
       "      <td>1.420071e+09</td>\n",
       "      <td>11.428571</td>\n",
       "      <td>Central Harlem</td>\n",
       "      <td>34</td>\n",
       "    </tr>\n",
       "    <tr>\n",
       "      <th>1</th>\n",
       "      <td>1</td>\n",
       "      <td>0.9</td>\n",
       "      <td>166</td>\n",
       "      <td>238</td>\n",
       "      <td>7.30</td>\n",
       "      <td>5.933333</td>\n",
       "      <td>1.420072e+09</td>\n",
       "      <td>9.101124</td>\n",
       "      <td>Morningside Heights</td>\n",
       "      <td>34</td>\n",
       "    </tr>\n",
       "    <tr>\n",
       "      <th>2</th>\n",
       "      <td>1</td>\n",
       "      <td>3.5</td>\n",
       "      <td>238</td>\n",
       "      <td>162</td>\n",
       "      <td>17.40</td>\n",
       "      <td>14.783333</td>\n",
       "      <td>1.420072e+09</td>\n",
       "      <td>14.205186</td>\n",
       "      <td>Upper West Side North</td>\n",
       "      <td>35</td>\n",
       "    </tr>\n",
       "    <tr>\n",
       "      <th>3</th>\n",
       "      <td>1</td>\n",
       "      <td>2.1</td>\n",
       "      <td>162</td>\n",
       "      <td>263</td>\n",
       "      <td>11.87</td>\n",
       "      <td>7.900000</td>\n",
       "      <td>1.420073e+09</td>\n",
       "      <td>15.949367</td>\n",
       "      <td>Midtown East</td>\n",
       "      <td>37</td>\n",
       "    </tr>\n",
       "    <tr>\n",
       "      <th>4</th>\n",
       "      <td>1</td>\n",
       "      <td>1.0</td>\n",
       "      <td>236</td>\n",
       "      <td>141</td>\n",
       "      <td>7.30</td>\n",
       "      <td>6.050000</td>\n",
       "      <td>1.420074e+09</td>\n",
       "      <td>9.917355</td>\n",
       "      <td>Upper East Side North</td>\n",
       "      <td>38</td>\n",
       "    </tr>\n",
       "  </tbody>\n",
       "</table>\n",
       "</div>"
      ],
      "text/plain": [
       "   passenger_count  trip_distance  PULocationID  DOLocationID  total_amount  \\\n",
       "0                1            1.0            41           166          8.40   \n",
       "1                1            0.9           166           238          7.30   \n",
       "2                1            3.5           238           162         17.40   \n",
       "3                1            2.1           162           263         11.87   \n",
       "4                1            1.0           236           141          7.30   \n",
       "\n",
       "   trip_times  pickup_times      Speed            Pickup Zone  pickup_bins  \n",
       "0    5.250000  1.420071e+09  11.428571         Central Harlem           34  \n",
       "1    5.933333  1.420072e+09   9.101124    Morningside Heights           34  \n",
       "2   14.783333  1.420072e+09  14.205186  Upper West Side North           35  \n",
       "3    7.900000  1.420073e+09  15.949367           Midtown East           37  \n",
       "4    6.050000  1.420074e+09   9.917355  Upper East Side North           38  "
      ]
     },
     "execution_count": 49,
     "metadata": {},
     "output_type": "execute_result"
    }
   ],
   "source": [
    "J_15.head()"
   ]
  },
  {
   "cell_type": "markdown",
   "id": "7a99eb4d-dcc6-4ab6-b212-c72f91071f65",
   "metadata": {},
   "source": [
    "<h3> Assigning a unique number for Pickup Zones</h3>"
   ]
  },
  {
   "cell_type": "code",
   "execution_count": 50,
   "id": "42b1ca5b-3e60-4d64-a487-486713d82ed7",
   "metadata": {},
   "outputs": [
    {
     "name": "stdout",
     "output_type": "stream",
     "text": [
      "Mapping of Pickup Zones to IDs: {'Central Harlem': 0, 'Morningside Heights': 1, 'Upper West Side North': 2, 'Midtown East': 3, 'Upper East Side North': 4, 'Upper West Side South': 5, 'Flatiron': 6, 'Hudson Sq': 7, 'West Chelsea/Hudson Yards': 8, 'Yorkville West': 9, 'Midtown Center': 10, 'Midtown South': 11, 'Financial District South': 12, 'Meatpacking/West Village West': 13, 'Manhattan Valley': 14, 'Lincoln Square East': 15, 'Clinton West': 16, 'Battery Park City': 17, 'East Village': 18, 'Gramercy': 19, 'TriBeCa/Civic Center': 20, 'Upper East Side South': 21, 'Clinton East': 22, 'Sunset Park West': 23, 'Lenox Hill West': 24, 'Kips Bay': 25, 'Murray Hill': 26, 'Manhattanville': 27, 'Washington Heights South': 28, 'Hamilton Heights': 29, 'SoHo': 30, 'Sunnyside': 31, 'Astoria': 32, 'East Chelsea': 33, 'UN/Turtle Bay South': 34, 'Bloomingdale': 35, 'Times Sq/Theatre District': 36, 'Lincoln Square West': 37, 'Old Astoria': 38, 'Union Sq': 39, 'Sutton Place/Turtle Bay North': 40, 'Penn Station/Madison Sq West': 41, 'Little Italy/NoLiTa': 42, 'Financial District North': 43, 'Bedford': 44, 'Lenox Hill East': 45, 'Yorkville East': 46, 'Seaport': 47, 'Long Island City/Hunters Point': 48, 'Queensbridge/Ravenswood': 49, 'Greenwich Village South': 50, 'Alphabet City': 51, 'Williamsburg (South Side)': 52, 'Lower East Side': 53, 'East Williamsburg': 54, 'South Williamsburg': 55, 'Williamsburg (North Side)': 56, 'Greenpoint': 57, 'JFK Airport': 58, 'Central Park': 59, 'East Harlem North': 60, 'Central Harlem North': 61, 'Fort Greene': 62, 'West Village': 63, 'Greenwich Village North': 64, 'Midtown North': 65, 'Brooklyn Heights': 66, 'Garment District': 67, 'Park Slope': 68, 'Flatbush/Ditmas Park': 69, 'Prospect-Lefferts Gardens': 70, 'East Harlem South': 71, 'Chinatown': 72, 'Crown Heights North': 73, 'Cobble Hill': 74, 'World Trade Center': 75, 'Stuyvesant Heights': 76, 'Stuy Town/Peter Cooper Village': 77, 'Carroll Gardens': 78, 'Gowanus': 79, 'Long Island City/Queens Plaza': 80, 'Bushwick South': 81, 'LaGuardia Airport': 82, 'Flatlands': 83, 'Downtown Brooklyn/MetroTech': 84, 'Two Bridges/Seward Park': 85, 'Boerum Hill': 86, 'Mott Haven/Port Morris': 87, 'Inwood': 88, 'Kensington': 89, 'North Corona': 90, 'Glendale': 91, 'Kew Gardens': 92, 'Astoria Park': 93, 'Prospect Park': 94, 'Prospect Heights': 95, 'Forest Hills': 96, 'University Heights/Morris Heights': 97, 'Rego Park': 98, 'DUMBO/Vinegar Hill': 99, 'Clinton Hill': 100, 'Washington Heights North': 101, 'Fordham South': 102, 'Flushing': 103, 'Jackson Heights': 104, 'Steinway': 105, 'Kingsbridge Heights': 106, 'Bay Ridge': 107, 'Bushwick North': 108, 'Van Cortlandt Village': 109, 'Ridgewood': 110, 'Roosevelt Island': 111, 'Crown Heights South': 112, 'Battery Park': 113, 'Elmhurst': 114, 'Ocean Hill': 115, 'Inwood Hill Park': 116, 'Woodside': 117, 'Elmhurst/Maspeth': 118, 'Bedford Park': 119, 'Melrose South': 120, 'Erasmus': 121, 'Middle Village': 122, 'Red Hook': 123, 'Springfield Gardens North': 124, 'Springfield Gardens South': 125, 'East Elmhurst': 126, 'Claremont/Bathgate': 127, 'East Flatbush/Remsen Village': 128, 'Norwood': 129, 'Woodhaven': 130, 'Highbridge': 131, 'Kew Gardens Hills': 132, 'Brownsville': 133, 'Midwood': 134, 'West Concourse': 135, 'South Ozone Park': 136, \"Governor's Island/Ellis Island/Liberty Island\": 137, 'Van Nest/Morris Park': 138, 'Schuylerville/Edgewater Park': 139, 'Richmond Hill': 140, 'Spuyten Duyvil/Kingsbridge': 141, 'Allerton/Pelham Gardens': 142, 'Columbia Street': 143, 'Pelham Parkway': 144, 'Mount Hope': 145, 'East New York/Pennsylvania Avenue': 146, 'East Concourse/Concourse Village': 147, 'Corona': 148, 'Bayside': 149, 'Flushing Meadows-Corona Park': 150, 'Soundview/Bruckner': 151, 'Jamaica': 152, 'East New York': 153, 'Parkchester': 154, 'Longwood': 155, 'Windsor Terrace': 156, 'Brooklyn Navy Yard': 157, 'Williamsbridge/Olinville': 158, 'Morrisania/Melrose': 159, 'Marble Hill': 160, 'Sunset Park East': 161, 'Murray Hill-Queens': 162, 'East Flatbush/Farragut': 163, 'Belmont': 164, 'Baisley Park': 165, 'Queensboro Hill': 166, 'Ozone Park': 167, 'Auburndale': 168, 'Maspeth': 169, 'West Farms/Bronx River': 170, 'Hunts Point': 171, 'Soundview/Castle Hill': 172, 'Riverdale/North Riverdale/Fieldston': 173, 'Highbridge Park': 174, 'Crotona Park East': 175, 'Pelham Bay': 176, 'Bensonhurst West': 177, 'Westchester Village/Unionport': 178, 'Dyker Heights': 179, 'Fresh Meadows': 180, 'East Tremont': 181, 'Bronxdale': 182, 'Briarwood/Jamaica Hills': 183, 'Hillcrest/Pomonok': 184, 'Bronx Park': 185, 'Co-Op City': 186, 'Homecrest': 187, 'South Jamaica': 188, 'Manhattan Beach': 189, 'Coney Island': 190, 'Madison': 191, 'Oakland Gardens': 192, 'Woodlawn/Wakefield': 193, 'Van Cortlandt Park': 194, 'Bensonhurst East': 195, 'Eastchester': 196, 'New Dorp/Midland Beach': 197, 'Douglaston': 198, 'Stapleton': 199, 'Jamaica Estates': 200, 'Mariners Harbor': 201, 'Canarsie': 202, 'Ocean Parkway South': 203, 'College Point': 204, 'Grymes Hill/Clifton': 205, 'Whitestone': 206, 'Bay Terrace/Fort Totten': 207, 'Marine Park/Mill Basin': 208, 'Cypress Hills': 209, 'West Brighton': 210, 'Brighton Beach': 211, 'Green-Wood Cemetery': 212, 'Bath Beach': 213, 'Forest Park/Highland Park': 214, 'Port Richmond': 215, 'Gravesend': 216, 'Bellerose': 217, 'Borough Park': 218, 'City Island': 219, 'Saint Michaels Cemetery/Woodside': 220, 'Queens Village': 221, 'Starrett City': 222, 'Saint Albans': 223, 'Pelham Bay Park': 224, 'Cambria Heights': 225, 'Rosedale': 226, 'East Flushing': 227, 'Newark Airport': 228, 'Crotona Park': 229, 'Marine Park/Floyd Bennett Field': 230, 'Randalls Island': 231, 'Laurelton': 232, 'Howard Beach': 233, 'Sheepshead Bay': 234, 'Westerleigh': 235, 'Jamaica Bay': 236, 'Hammels/Arverne': 237, 'Heartland Village/Todt Hill': 238, 'South Beach/Dongan Hills': 239, 'Willets Point': 240, 'Glen Oaks': 241, 'Far Rockaway': 242, 'Hollis': 243, 'Rossville/Woodrow': 244, 'Bloomfield/Emerson Hill': 245, 'Saint George/New Brighton': 246, 'Arden Heights': 247, 'Rikers Island': 248, 'Arrochar/Fort Wadsworth': 249, 'Great Kills': 250, 'Country Club': 251, 'Oakwood': 252, 'Rockaway Park': 253, 'Breezy Point/Fort Tilden/Riis Beach': 254, 'Broad Channel': 255}\n"
     ]
    }
   ],
   "source": [
    "# Assigning a unique number for each unique pickup zone\n",
    "J_15['Pickup_Zone_Number'], unique_zones = pd.factorize(J_15['Pickup Zone'])\n",
    "print(\"Mapping of Pickup Zones to IDs:\", dict(zip(unique_zones, range(len(unique_zones)))))"
   ]
  },
  {
   "cell_type": "code",
   "execution_count": 56,
   "id": "ff5d80f2-3e53-42b5-88fc-cfd5749a612e",
   "metadata": {},
   "outputs": [
    {
     "data": {
      "text/html": [
       "<div>\n",
       "<style scoped>\n",
       "    .dataframe tbody tr th:only-of-type {\n",
       "        vertical-align: middle;\n",
       "    }\n",
       "\n",
       "    .dataframe tbody tr th {\n",
       "        vertical-align: top;\n",
       "    }\n",
       "\n",
       "    .dataframe thead th {\n",
       "        text-align: right;\n",
       "    }\n",
       "</style>\n",
       "<table border=\"1\" class=\"dataframe\">\n",
       "  <thead>\n",
       "    <tr style=\"text-align: right;\">\n",
       "      <th></th>\n",
       "      <th>passenger_count</th>\n",
       "      <th>trip_distance</th>\n",
       "      <th>PULocationID</th>\n",
       "      <th>DOLocationID</th>\n",
       "      <th>total_amount</th>\n",
       "      <th>trip_times</th>\n",
       "      <th>pickup_times</th>\n",
       "      <th>Speed</th>\n",
       "      <th>Pickup Zone</th>\n",
       "      <th>pickup_bins</th>\n",
       "      <th>Pickup_Zone_Number</th>\n",
       "    </tr>\n",
       "  </thead>\n",
       "  <tbody>\n",
       "    <tr>\n",
       "      <th>0</th>\n",
       "      <td>1</td>\n",
       "      <td>1.0</td>\n",
       "      <td>41</td>\n",
       "      <td>166</td>\n",
       "      <td>8.40</td>\n",
       "      <td>5.250000</td>\n",
       "      <td>1.420071e+09</td>\n",
       "      <td>11.428571</td>\n",
       "      <td>Central Harlem</td>\n",
       "      <td>34</td>\n",
       "      <td>0</td>\n",
       "    </tr>\n",
       "    <tr>\n",
       "      <th>1</th>\n",
       "      <td>1</td>\n",
       "      <td>0.9</td>\n",
       "      <td>166</td>\n",
       "      <td>238</td>\n",
       "      <td>7.30</td>\n",
       "      <td>5.933333</td>\n",
       "      <td>1.420072e+09</td>\n",
       "      <td>9.101124</td>\n",
       "      <td>Morningside Heights</td>\n",
       "      <td>34</td>\n",
       "      <td>1</td>\n",
       "    </tr>\n",
       "    <tr>\n",
       "      <th>2</th>\n",
       "      <td>1</td>\n",
       "      <td>3.5</td>\n",
       "      <td>238</td>\n",
       "      <td>162</td>\n",
       "      <td>17.40</td>\n",
       "      <td>14.783333</td>\n",
       "      <td>1.420072e+09</td>\n",
       "      <td>14.205186</td>\n",
       "      <td>Upper West Side North</td>\n",
       "      <td>35</td>\n",
       "      <td>2</td>\n",
       "    </tr>\n",
       "    <tr>\n",
       "      <th>3</th>\n",
       "      <td>1</td>\n",
       "      <td>2.1</td>\n",
       "      <td>162</td>\n",
       "      <td>263</td>\n",
       "      <td>11.87</td>\n",
       "      <td>7.900000</td>\n",
       "      <td>1.420073e+09</td>\n",
       "      <td>15.949367</td>\n",
       "      <td>Midtown East</td>\n",
       "      <td>37</td>\n",
       "      <td>3</td>\n",
       "    </tr>\n",
       "    <tr>\n",
       "      <th>4</th>\n",
       "      <td>1</td>\n",
       "      <td>1.0</td>\n",
       "      <td>236</td>\n",
       "      <td>141</td>\n",
       "      <td>7.30</td>\n",
       "      <td>6.050000</td>\n",
       "      <td>1.420074e+09</td>\n",
       "      <td>9.917355</td>\n",
       "      <td>Upper East Side North</td>\n",
       "      <td>38</td>\n",
       "      <td>4</td>\n",
       "    </tr>\n",
       "  </tbody>\n",
       "</table>\n",
       "</div>"
      ],
      "text/plain": [
       "   passenger_count  trip_distance  PULocationID  DOLocationID  total_amount  \\\n",
       "0                1            1.0            41           166          8.40   \n",
       "1                1            0.9           166           238          7.30   \n",
       "2                1            3.5           238           162         17.40   \n",
       "3                1            2.1           162           263         11.87   \n",
       "4                1            1.0           236           141          7.30   \n",
       "\n",
       "   trip_times  pickup_times      Speed            Pickup Zone  pickup_bins  \\\n",
       "0    5.250000  1.420071e+09  11.428571         Central Harlem           34   \n",
       "1    5.933333  1.420072e+09   9.101124    Morningside Heights           34   \n",
       "2   14.783333  1.420072e+09  14.205186  Upper West Side North           35   \n",
       "3    7.900000  1.420073e+09  15.949367           Midtown East           37   \n",
       "4    6.050000  1.420074e+09   9.917355  Upper East Side North           38   \n",
       "\n",
       "   Pickup_Zone_Number  \n",
       "0                   0  \n",
       "1                   1  \n",
       "2                   2  \n",
       "3                   3  \n",
       "4                   4  "
      ]
     },
     "execution_count": 56,
     "metadata": {},
     "output_type": "execute_result"
    }
   ],
   "source": [
    "J_15.head()"
   ]
  },
  {
   "cell_type": "code",
   "execution_count": 58,
   "id": "7d547fc1-edc3-409d-8083-29646feb6f22",
   "metadata": {},
   "outputs": [],
   "source": [
    "jan_2015_groupby = J_15[['Pickup_Zone_Number','pickup_bins','trip_distance']].groupby(['Pickup_Zone_Number','pickup_bins']).count()"
   ]
  },
  {
   "cell_type": "code",
   "execution_count": 59,
   "id": "149cf283-506e-43b9-895b-e9bc33141299",
   "metadata": {},
   "outputs": [
    {
     "data": {
      "text/html": [
       "<div>\n",
       "<style scoped>\n",
       "    .dataframe tbody tr th:only-of-type {\n",
       "        vertical-align: middle;\n",
       "    }\n",
       "\n",
       "    .dataframe tbody tr th {\n",
       "        vertical-align: top;\n",
       "    }\n",
       "\n",
       "    .dataframe thead th {\n",
       "        text-align: right;\n",
       "    }\n",
       "</style>\n",
       "<table border=\"1\" class=\"dataframe\">\n",
       "  <thead>\n",
       "    <tr style=\"text-align: right;\">\n",
       "      <th></th>\n",
       "      <th></th>\n",
       "      <th>trip_distance</th>\n",
       "    </tr>\n",
       "    <tr>\n",
       "      <th>Pickup_Zone_Number</th>\n",
       "      <th>pickup_bins</th>\n",
       "      <th></th>\n",
       "    </tr>\n",
       "  </thead>\n",
       "  <tbody>\n",
       "    <tr>\n",
       "      <th rowspan=\"5\" valign=\"top\">0</th>\n",
       "      <th>33</th>\n",
       "      <td>11</td>\n",
       "    </tr>\n",
       "    <tr>\n",
       "      <th>34</th>\n",
       "      <td>9</td>\n",
       "    </tr>\n",
       "    <tr>\n",
       "      <th>35</th>\n",
       "      <td>24</td>\n",
       "    </tr>\n",
       "    <tr>\n",
       "      <th>36</th>\n",
       "      <td>38</td>\n",
       "    </tr>\n",
       "    <tr>\n",
       "      <th>37</th>\n",
       "      <td>42</td>\n",
       "    </tr>\n",
       "  </tbody>\n",
       "</table>\n",
       "</div>"
      ],
      "text/plain": [
       "                                trip_distance\n",
       "Pickup_Zone_Number pickup_bins               \n",
       "0                  33                      11\n",
       "                   34                       9\n",
       "                   35                      24\n",
       "                   36                      38\n",
       "                   37                      42"
      ]
     },
     "execution_count": 59,
     "metadata": {},
     "output_type": "execute_result"
    }
   ],
   "source": [
    "# hear the trip_distance represents the number of pickups that are happend in that particular 10min intravel\n",
    "# this data frame has two indices\n",
    "# primary index: pickup_cluster (cluster number)\n",
    "# secondary index : pickup_bins (we devid whole months time into 10min intravels 24*31*60/10 =4464bins)\n",
    "jan_2015_groupby.head()"
   ]
  },
  {
   "cell_type": "markdown",
   "id": "48bf0b9f-d040-4107-8ddc-d811005bd1cc",
   "metadata": {},
   "source": [
    "<h4> Adding in Feb and March 2015 Data </h4>"
   ]
  },
  {
   "cell_type": "code",
   "execution_count": 60,
   "id": "5e90ed0c-1464-4fa2-845e-97b2c911f0da",
   "metadata": {},
   "outputs": [],
   "source": [
    "df2=dd.read_parquet('/Users/pinakshome/Downloads/yellow_tripdata_2015-02.parquet', engine='pyarrow')\n",
    "df3=df=dd.read_parquet('/Users/pinakshome/Downloads/yellow_tripdata_2015-03.parquet', engine='pyarrow')"
   ]
  },
  {
   "cell_type": "markdown",
   "id": "a2e81e60-24de-4221-b3ca-9a58ec342c26",
   "metadata": {},
   "source": [
    "<h3> Data Preparation Function to accomodate all analysis so far</h3>"
   ]
  },
  {
   "cell_type": "code",
   "execution_count": 67,
   "id": "2315e6d8-4c36-45e2-b2e7-12ab3344d035",
   "metadata": {},
   "outputs": [],
   "source": [
    "def datapreparation(month,month_no,year_no):\n",
    "    \n",
    "    print (\"Return with trip times..\")\n",
    "\n",
    "    frame_with_durations = return_with_trip_times(month)\n",
    "    \n",
    "    print (\"Remove outliers..\")\n",
    "    frame_with_durations_outliers_removed = remove_outliers(frame_with_durations)\n",
    "\n",
    "    # Now, mapping the zones using the dictionaries\n",
    "    frame_with_durations_outliers_removed['Pickup Zone'] = frame_with_durations_outliers_removed['PULocationID'].map(pu_location_to_zone)\n",
    "    frame_with_durations_outliers_removed['Dropoff Zone'] = frame_with_durations_outliers_removed['DOLocationID'].map(do_location_to_zone)\n",
    "    frame_with_durations_outliers_removed['Pickup_Zone_Number'], unique_zones = pd.factorize(frame_with_durations_outliers_removed['Pickup Zone'])\n",
    "    print (\"Final groupbying..\")\n",
    "    final_updated_frame = add_pickup_bins(frame_with_durations_outliers_removed,month_no,year_no)\n",
    "    final_groupby_frame = final_updated_frame[['Pickup_Zone_Number','pickup_bins','trip_distance']].groupby(['Pickup_Zone_Number','pickup_bins']).count()\n",
    "    \n",
    "    return final_updated_frame,final_groupby_frame"
   ]
  },
  {
   "cell_type": "code",
   "execution_count": 68,
   "id": "29c7455d-7c33-425f-9992-3e86503703f7",
   "metadata": {},
   "outputs": [
    {
     "name": "stdout",
     "output_type": "stream",
     "text": [
      "Return with trip times..\n"
     ]
    },
    {
     "name": "stderr",
     "output_type": "stream",
     "text": [
      "/var/folders/z0/h3tw1q0x23n78k5s9bv1b7wc0000gn/T/ipykernel_41623/2137877124.py:28: SettingWithCopyWarning: \n",
      "A value is trying to be set on a copy of a slice from a DataFrame\n",
      "\n",
      "See the caveats in the documentation: https://pandas.pydata.org/pandas-docs/stable/user_guide/indexing.html#returning-a-view-versus-a-copy\n",
      "  new_frame.rename(columns={'pickup_unix': 'pickup_times'}, inplace=True)\n"
     ]
    },
    {
     "name": "stdout",
     "output_type": "stream",
     "text": [
      "Remove outliers..\n",
      "Number of pickup records =  12442394\n",
      "Number of outlier coordinates lying outside NY boundaries: 294246\n",
      "Number of outliers from trip times analysis: 23483\n",
      "Number of outliers from trip distance analysis: 84509\n",
      "Number of outliers from speed analysis: 24719\n",
      "Number of outliers from fare analysis: 4575\n",
      "Total outliers removed 367428\n",
      "---\n",
      "Final groupbying..\n",
      "Return with trip times..\n"
     ]
    },
    {
     "name": "stderr",
     "output_type": "stream",
     "text": [
      "/var/folders/z0/h3tw1q0x23n78k5s9bv1b7wc0000gn/T/ipykernel_41623/2137877124.py:28: SettingWithCopyWarning: \n",
      "A value is trying to be set on a copy of a slice from a DataFrame\n",
      "\n",
      "See the caveats in the documentation: https://pandas.pydata.org/pandas-docs/stable/user_guide/indexing.html#returning-a-view-versus-a-copy\n",
      "  new_frame.rename(columns={'pickup_unix': 'pickup_times'}, inplace=True)\n"
     ]
    },
    {
     "name": "stdout",
     "output_type": "stream",
     "text": [
      "Remove outliers..\n",
      "Number of pickup records =  13342951\n",
      "Number of outlier coordinates lying outside NY boundaries: 302252\n",
      "Number of outliers from trip times analysis: 25504\n",
      "Number of outliers from trip distance analysis: 95635\n",
      "Number of outliers from speed analysis: 26898\n",
      "Number of outliers from fare analysis: 4982\n",
      "Total outliers removed 384447\n",
      "---\n",
      "Final groupbying..\n"
     ]
    }
   ],
   "source": [
    "j152, j152G = datapreparation(df2,2,2015)\n",
    "j153, j153G=  datapreparation(df3,3,2015)"
   ]
  },
  {
   "cell_type": "markdown",
   "id": "13d2a175-cadb-4a61-8a36-e8e7c532f56b",
   "metadata": {},
   "source": [
    "<h2> <b> We Do this similarly for our test data <b> </h2>"
   ]
  },
  {
   "cell_type": "code",
   "execution_count": 70,
   "id": "a938ccea-66ce-45ee-bb91-bae17d2655f3",
   "metadata": {},
   "outputs": [],
   "source": [
    "df4=dd.read_parquet('/Users/pinakshome/Downloads/yellow_tripdata_2016-01.parquet', engine='pyarrow')\n",
    "df5=df=dd.read_parquet('/Users/pinakshome/Downloads/yellow_tripdata_2016-02.parquet', engine='pyarrow')\n",
    "df6=dd.read_parquet('/Users/pinakshome/Downloads/yellow_tripdata_2016-03.parquet', engine='pyarrow')"
   ]
  },
  {
   "cell_type": "code",
   "execution_count": 71,
   "id": "f71878c4-d7f4-4d8c-8b0f-dae3d796c7f8",
   "metadata": {},
   "outputs": [
    {
     "name": "stdout",
     "output_type": "stream",
     "text": [
      "Return with trip times..\n"
     ]
    },
    {
     "name": "stderr",
     "output_type": "stream",
     "text": [
      "/var/folders/z0/h3tw1q0x23n78k5s9bv1b7wc0000gn/T/ipykernel_41623/2137877124.py:28: SettingWithCopyWarning: \n",
      "A value is trying to be set on a copy of a slice from a DataFrame\n",
      "\n",
      "See the caveats in the documentation: https://pandas.pydata.org/pandas-docs/stable/user_guide/indexing.html#returning-a-view-versus-a-copy\n",
      "  new_frame.rename(columns={'pickup_unix': 'pickup_times'}, inplace=True)\n"
     ]
    },
    {
     "name": "stdout",
     "output_type": "stream",
     "text": [
      "Remove outliers..\n",
      "Number of pickup records =  10905067\n",
      "Number of outlier coordinates lying outside NY boundaries: 211471\n",
      "Number of outliers from trip times analysis: 27122\n",
      "Number of outliers from trip distance analysis: 78488\n",
      "Number of outliers from speed analysis: 20968\n",
      "Number of outliers from fare analysis: 4664\n",
      "Total outliers removed 292881\n",
      "---\n",
      "Final groupbying..\n",
      "Return with trip times..\n"
     ]
    },
    {
     "name": "stderr",
     "output_type": "stream",
     "text": [
      "/var/folders/z0/h3tw1q0x23n78k5s9bv1b7wc0000gn/T/ipykernel_41623/2137877124.py:28: SettingWithCopyWarning: \n",
      "A value is trying to be set on a copy of a slice from a DataFrame\n",
      "\n",
      "See the caveats in the documentation: https://pandas.pydata.org/pandas-docs/stable/user_guide/indexing.html#returning-a-view-versus-a-copy\n",
      "  new_frame.rename(columns={'pickup_unix': 'pickup_times'}, inplace=True)\n"
     ]
    },
    {
     "name": "stdout",
     "output_type": "stream",
     "text": [
      "Remove outliers..\n",
      "Number of pickup records =  11375412\n",
      "Number of outlier coordinates lying outside NY boundaries: 218096\n",
      "Number of outliers from trip times analysis: 27554\n",
      "Number of outliers from trip distance analysis: 77091\n",
      "Number of outliers from speed analysis: 22099\n",
      "Number of outliers from fare analysis: 4821\n",
      "Total outliers removed 298359\n",
      "---\n",
      "Final groupbying..\n",
      "Return with trip times..\n"
     ]
    },
    {
     "name": "stderr",
     "output_type": "stream",
     "text": [
      "/var/folders/z0/h3tw1q0x23n78k5s9bv1b7wc0000gn/T/ipykernel_41623/2137877124.py:28: SettingWithCopyWarning: \n",
      "A value is trying to be set on a copy of a slice from a DataFrame\n",
      "\n",
      "See the caveats in the documentation: https://pandas.pydata.org/pandas-docs/stable/user_guide/indexing.html#returning-a-view-versus-a-copy\n",
      "  new_frame.rename(columns={'pickup_unix': 'pickup_times'}, inplace=True)\n"
     ]
    },
    {
     "name": "stdout",
     "output_type": "stream",
     "text": [
      "Remove outliers..\n",
      "Number of pickup records =  12203824\n",
      "Number of outlier coordinates lying outside NY boundaries: 226304\n",
      "Number of outliers from trip times analysis: 30729\n",
      "Number of outliers from trip distance analysis: 82262\n",
      "Number of outliers from speed analysis: 23603\n",
      "Number of outliers from fare analysis: 5059\n",
      "Total outliers removed 313567\n",
      "---\n",
      "Final groupbying..\n"
     ]
    }
   ],
   "source": [
    "j161, j161G = datapreparation(df4,1,2016)\n",
    "j162, j162G=  datapreparation(df5,2,2016)\n",
    "j163, j163G = datapreparation(df6,3,2016)"
   ]
  },
  {
   "cell_type": "code",
   "execution_count": null,
   "id": "a4b7ca68-0200-4f85-97f8-aecb1dc0eb8a",
   "metadata": {},
   "outputs": [],
   "source": []
  }
 ],
 "metadata": {
  "kernelspec": {
   "display_name": "Python 3 (ipykernel)",
   "language": "python",
   "name": "python3"
  },
  "language_info": {
   "codemirror_mode": {
    "name": "ipython",
    "version": 3
   },
   "file_extension": ".py",
   "mimetype": "text/x-python",
   "name": "python",
   "nbconvert_exporter": "python",
   "pygments_lexer": "ipython3",
   "version": "3.11.5"
  }
 },
 "nbformat": 4,
 "nbformat_minor": 5
}
