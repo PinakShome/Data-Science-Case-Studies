{
 "cells": [
  {
   "cell_type": "code",
   "execution_count": 3,
   "metadata": {
    "execution": {
     "iopub.execute_input": "2024-06-09T17:26:41.859021Z",
     "iopub.status.busy": "2024-06-09T17:26:41.858581Z",
     "iopub.status.idle": "2024-06-09T17:26:47.812804Z",
     "shell.execute_reply": "2024-06-09T17:26:47.811426Z",
     "shell.execute_reply.started": "2024-06-09T17:26:41.858988Z"
    }
   },
   "outputs": [],
   "source": [
    "import pandas as pd\n",
    "merged_df = pd.read_csv('/kaggle/input/dataframe/merged_df.csv')"
   ]
  },
  {
   "cell_type": "markdown",
   "metadata": {},
   "source": [
    "<h2> This Takes very Long to complete - Lack of compute resources "
   ]
  },
  {
   "cell_type": "code",
   "execution_count": 2,
   "metadata": {
    "execution": {
     "iopub.execute_input": "2024-06-08T23:37:42.951189Z",
     "iopub.status.busy": "2024-06-08T23:37:42.950114Z",
     "iopub.status.idle": "2024-06-08T23:37:43.964500Z",
     "shell.execute_reply": "2024-06-08T23:37:43.963219Z",
     "shell.execute_reply.started": "2024-06-08T23:37:42.951133Z"
    }
   },
   "outputs": [
    {
     "name": "stdout",
     "output_type": "stream",
     "text": [
      "<class 'pandas.core.frame.DataFrame'>\n",
      "RangeIndex: 484007 entries, 0 to 484006\n",
      "Data columns (total 14 columns):\n",
      " #   Column             Non-Null Count   Dtype  \n",
      "---  ------             --------------   -----  \n",
      " 0   rating             484007 non-null  float64\n",
      " 1   title_x            484007 non-null  object \n",
      " 2   text               484007 non-null  object \n",
      " 3   helpful_vote       484007 non-null  int64  \n",
      " 4   verified_purchase  484007 non-null  bool   \n",
      " 5   title_y            484007 non-null  object \n",
      " 6   average_rating     484007 non-null  float64\n",
      " 7   rating_number      484007 non-null  int64  \n",
      " 8   price              484007 non-null  float64\n",
      " 9   details            484007 non-null  object \n",
      " 10  x_length           484007 non-null  int64  \n",
      " 11  y_length           484007 non-null  int64  \n",
      " 12  de_length          484007 non-null  int64  \n",
      " 13  review_length      484007 non-null  int64  \n",
      "dtypes: bool(1), float64(3), int64(6), object(4)\n",
      "memory usage: 48.5+ MB\n",
      "None\n"
     ]
    }
   ],
   "source": [
    "# Fill NaN values in text columns with an empty string\n",
    "text_columns = ['title_x', 'text', 'title_y', 'details']\n",
    "merged_df[text_columns] = merged_df[text_columns].fillna('')\n",
    "\n",
    "# Check for remaining missing values and handle them\n",
    "merged_df.fillna(0, inplace=True)\n",
    "\n",
    "# Now all columns should have the same number of non-null values\n",
    "print(merged_df.info())"
   ]
  },
  {
   "cell_type": "code",
   "execution_count": 4,
   "metadata": {
    "execution": {
     "iopub.execute_input": "2024-06-09T17:39:59.845240Z",
     "iopub.status.busy": "2024-06-09T17:39:59.844739Z",
     "iopub.status.idle": "2024-06-09T17:40:07.960012Z",
     "shell.execute_reply": "2024-06-09T17:40:07.958816Z",
     "shell.execute_reply.started": "2024-06-09T17:39:59.845200Z"
    }
   },
   "outputs": [],
   "source": [
    "import torch\n",
    "from torch.utils.data import Dataset, DataLoader\n",
    "import torch.nn as nn\n",
    "from transformers import BertTokenizer, BertModel, AdamW, get_linear_schedule_with_warmup\n",
    "from sklearn.preprocessing import StandardScaler\n",
    "from sklearn.model_selection import train_test_split\n",
    "from sklearn.metrics import mean_squared_error\n",
    "import pandas as pd\n",
    "import numpy as np\n",
    "\n",
    "# Assuming merged_df is already defined and contains the necessary columns\n",
    "\n",
    "# Select a subset of the data\n",
    "subset_df = merged_df.sample(n=10000, random_state=42)\n",
    "\n",
    "# Combine text columns into one for BERT embeddings\n",
    "subset_df['combined_text'] = subset_df['text'] + ' ' + subset_df['title_x'] + ' ' + subset_df['title_y'] + ' ' + subset_df['details']\n",
    "\n",
    "# Normalize numerical features\n",
    "numerical_features = subset_df[['price', 'average_rating', 'rating_number', 'helpful_vote', 'x_length', 'y_length', 'de_length', 'review_length']]\n",
    "scaler = StandardScaler()\n",
    "normalized_numerical_features = scaler.fit_transform(numerical_features)\n",
    "\n",
    "# Define the target variable\n",
    "y = subset_df['rating'].values\n",
    "\n",
    "# Split the data into training and testing sets\n",
    "text_train, text_test, num_train, num_test, y_train, y_test = train_test_split(\n",
    "    subset_df['combined_text'].values, normalized_numerical_features, y, test_size=0.2, random_state=42\n",
    ")"
   ]
  },
  {
   "cell_type": "code",
   "execution_count": 5,
   "metadata": {
    "execution": {
     "iopub.execute_input": "2024-06-09T17:40:21.357147Z",
     "iopub.status.busy": "2024-06-09T17:40:21.356334Z",
     "iopub.status.idle": "2024-06-09T17:40:21.370534Z",
     "shell.execute_reply": "2024-06-09T17:40:21.368959Z",
     "shell.execute_reply.started": "2024-06-09T17:40:21.357105Z"
    }
   },
   "outputs": [],
   "source": [
    "class ReviewDataset(Dataset):\n",
    "    def __init__(self, texts, numerical_features, targets, tokenizer, max_len):\n",
    "        self.texts = texts\n",
    "        self.numerical_features = numerical_features\n",
    "        self.targets = targets\n",
    "        self.tokenizer = tokenizer\n",
    "        self.max_len = max_len\n",
    "\n",
    "    def __len__(self):\n",
    "        return len(self.texts)\n",
    "\n",
    "    def __getitem__(self, index):\n",
    "        text = self.texts[index]\n",
    "        numerical_features = self.numerical_features[index]\n",
    "        target = self.targets[index]\n",
    "\n",
    "        encoding = self.tokenizer.encode_plus(\n",
    "            text,\n",
    "            add_special_tokens=True,\n",
    "            max_length=self.max_len,\n",
    "            return_token_type_ids=False,\n",
    "            padding='max_length',\n",
    "            truncation=True,\n",
    "            return_attention_mask=True,\n",
    "            return_tensors='pt',\n",
    "        )\n",
    "\n",
    "        return {\n",
    "            'input_ids': encoding['input_ids'].flatten(),\n",
    "            'attention_mask': encoding['attention_mask'].flatten(),\n",
    "            'numerical_features': torch.tensor(numerical_features, dtype=torch.float),\n",
    "            'target': torch.tensor(target, dtype=torch.float)\n",
    "        }"
   ]
  },
  {
   "cell_type": "code",
   "execution_count": 6,
   "metadata": {
    "execution": {
     "iopub.execute_input": "2024-06-09T17:40:22.223572Z",
     "iopub.status.busy": "2024-06-09T17:40:22.223090Z",
     "iopub.status.idle": "2024-06-09T17:40:22.233368Z",
     "shell.execute_reply": "2024-06-09T17:40:22.231964Z",
     "shell.execute_reply.started": "2024-06-09T17:40:22.223537Z"
    }
   },
   "outputs": [],
   "source": [
    "class TransformerRegressor(nn.Module):\n",
    "    def __init__(self, transformer_model_name, n_numerical_features):\n",
    "        super(TransformerRegressor, self).__init__()\n",
    "        self.transformer = BertModel.from_pretrained(transformer_model_name)\n",
    "        self.drop = nn.Dropout(p=0.3)\n",
    "        self.out = nn.Linear(self.transformer.config.hidden_size + n_numerical_features, 1)\n",
    "\n",
    "    def forward(self, input_ids, attention_mask, numerical_features):\n",
    "        transformer_outputs = self.transformer(\n",
    "            input_ids=input_ids,\n",
    "            attention_mask=attention_mask\n",
    "        )\n",
    "        pooled_output = transformer_outputs[1]\n",
    "        combined = torch.cat((pooled_output, numerical_features), dim=1)\n",
    "        output = self.out(self.drop(combined))\n",
    "        return output\n"
   ]
  },
  {
   "cell_type": "code",
   "execution_count": 7,
   "metadata": {
    "execution": {
     "iopub.execute_input": "2024-06-09T17:40:24.569534Z",
     "iopub.status.busy": "2024-06-09T17:40:24.569085Z",
     "iopub.status.idle": "2024-06-09T17:40:24.583273Z",
     "shell.execute_reply": "2024-06-09T17:40:24.581964Z",
     "shell.execute_reply.started": "2024-06-09T17:40:24.569500Z"
    }
   },
   "outputs": [],
   "source": [
    "def train_epoch(model, data_loader, loss_fn, optimizer, device, scheduler, n_examples):\n",
    "    model = model.train()\n",
    "    losses = []\n",
    "    for batch in data_loader:\n",
    "        input_ids = batch['input_ids'].to(device)\n",
    "        attention_mask = batch['attention_mask'].to(device)\n",
    "        numerical_features = batch['numerical_features'].to(device)\n",
    "        targets = batch['target'].to(device)\n",
    "\n",
    "        outputs = model(input_ids=input_ids, attention_mask=attention_mask, numerical_features=numerical_features)\n",
    "        loss = loss_fn(outputs, targets.unsqueeze(1))\n",
    "        losses.append(loss.item())\n",
    "\n",
    "        optimizer.zero_grad()\n",
    "        loss.backward()\n",
    "        optimizer.step()\n",
    "        scheduler.step()\n",
    "\n",
    "    return np.mean(losses)\n",
    "\n",
    "def eval_model(model, data_loader, loss_fn, device, n_examples):\n",
    "    model = model.eval()\n",
    "    losses = []\n",
    "    preds = []\n",
    "\n",
    "    with torch.no_grad():\n",
    "        for batch in data_loader:\n",
    "            input_ids = batch['input_ids'].to(device)\n",
    "            attention_mask = batch['attention_mask'].to(device)\n",
    "            numerical_features = batch['numerical_features'].to(device)\n",
    "            targets = batch['target'].to(device)\n",
    "\n",
    "            outputs = model(input_ids=input_ids, attention_mask=attention_mask, numerical_features=numerical_features)\n",
    "            loss = loss_fn(outputs, targets.unsqueeze(1))\n",
    "            losses.append(loss.item())\n",
    "            preds.append(outputs.cpu().numpy())\n",
    "\n",
    "    return np.mean(losses), np.concatenate(preds, axis=0)\n"
   ]
  },
  {
   "cell_type": "code",
   "execution_count": null,
   "metadata": {
    "execution": {
     "iopub.execute_input": "2024-06-09T17:40:26.697304Z",
     "iopub.status.busy": "2024-06-09T17:40:26.696851Z"
    }
   },
   "outputs": [
    {
     "data": {
      "application/vnd.jupyter.widget-view+json": {
       "model_id": "0dacb75b0bae489fa28d5132053d47df",
       "version_major": 2,
       "version_minor": 0
      },
      "text/plain": [
       "tokenizer_config.json:   0%|          | 0.00/48.0 [00:00<?, ?B/s]"
      ]
     },
     "metadata": {},
     "output_type": "display_data"
    },
    {
     "data": {
      "application/vnd.jupyter.widget-view+json": {
       "model_id": "9219a8c5d7544284a5140596732d5a1b",
       "version_major": 2,
       "version_minor": 0
      },
      "text/plain": [
       "vocab.txt:   0%|          | 0.00/232k [00:00<?, ?B/s]"
      ]
     },
     "metadata": {},
     "output_type": "display_data"
    },
    {
     "data": {
      "application/vnd.jupyter.widget-view+json": {
       "model_id": "1b0e5a88feed44df8d809aa7ac0eb279",
       "version_major": 2,
       "version_minor": 0
      },
      "text/plain": [
       "tokenizer.json:   0%|          | 0.00/466k [00:00<?, ?B/s]"
      ]
     },
     "metadata": {},
     "output_type": "display_data"
    },
    {
     "name": "stderr",
     "output_type": "stream",
     "text": [
      "/opt/conda/lib/python3.10/site-packages/huggingface_hub/file_download.py:1132: FutureWarning: `resume_download` is deprecated and will be removed in version 1.0.0. Downloads always resume when possible. If you want to force a new download, use `force_download=True`.\n",
      "  warnings.warn(\n"
     ]
    },
    {
     "data": {
      "application/vnd.jupyter.widget-view+json": {
       "model_id": "50ece15f87c04cc4a992365814129d98",
       "version_major": 2,
       "version_minor": 0
      },
      "text/plain": [
       "config.json:   0%|          | 0.00/570 [00:00<?, ?B/s]"
      ]
     },
     "metadata": {},
     "output_type": "display_data"
    },
    {
     "data": {
      "application/vnd.jupyter.widget-view+json": {
       "model_id": "d9d4292dfe174f98b929e213f0a4c734",
       "version_major": 2,
       "version_minor": 0
      },
      "text/plain": [
       "model.safetensors:   0%|          | 0.00/440M [00:00<?, ?B/s]"
      ]
     },
     "metadata": {},
     "output_type": "display_data"
    },
    {
     "name": "stderr",
     "output_type": "stream",
     "text": [
      "/opt/conda/lib/python3.10/site-packages/transformers/optimization.py:588: FutureWarning: This implementation of AdamW is deprecated and will be removed in a future version. Use the PyTorch implementation torch.optim.AdamW instead, or set `no_deprecation_warning=True` to disable this warning\n",
      "  warnings.warn(\n"
     ]
    }
   ],
   "source": [
    "# Load BERT tokenizer and model\n",
    "tokenizer = BertTokenizer.from_pretrained('bert-base-uncased')\n",
    "\n",
    "# Create PyTorch datasets and dataloaders\n",
    "train_dataset = ReviewDataset(text_train, num_train, y_train, tokenizer, max_len=512)\n",
    "test_dataset = ReviewDataset(text_test, num_test, y_test, tokenizer, max_len=512)\n",
    "\n",
    "train_loader = DataLoader(train_dataset, batch_size=32, shuffle=True)\n",
    "test_loader = DataLoader(test_dataset, batch_size=32, shuffle=False)\n",
    "\n",
    "# Initialize the model, optimizer, and scheduler\n",
    "device = torch.device('cuda' if torch.cuda.is_available() else 'cpu')\n",
    "model = TransformerRegressor(transformer_model_name='bert-base-uncased', n_numerical_features=num_train.shape[1])\n",
    "model = model.to(device)\n",
    "\n",
    "optimizer = AdamW(model.parameters(), lr=2e-5)\n",
    "total_steps = len(train_loader) * 10\n",
    "\n",
    "scheduler = get_linear_schedule_with_warmup(\n",
    "    optimizer,\n",
    "    num_warmup_steps=0,\n",
    "    num_training_steps=total_steps\n",
    ")\n",
    "\n",
    "loss_fn = nn.MSELoss().to(device)\n",
    "\n",
    "# Training loop\n",
    "num_epochs = 10\n",
    "for epoch in range(num_epochs):\n",
    "    train_loss = train_epoch(model, train_loader, loss_fn, optimizer, device, scheduler, len(train_dataset))\n",
    "    print(f'Epoch {epoch + 1}/{num_epochs}, Train Loss: {train_loss:.4f}')\n",
    "\n",
    "# Evaluation\n",
    "test_loss, preds = eval_model(model, test_loader, loss_fn, device, len(test_dataset))\n",
    "print(f'Test Loss: {test_loss:.4f}')\n",
    "\n",
    "# Calculate and print the Mean Squared Error\n",
    "y_pred = preds.flatten()\n",
    "mse = mean_squared_error(y_test, y_pred)\n",
    "print(f\"Mean Squared Error: {mse}\")\n"
   ]
  }
 ],
 "metadata": {
  "kaggle": {
   "accelerator": "none",
   "dataSources": [
    {
     "datasetId": 5176473,
     "sourceId": 8643215,
     "sourceType": "datasetVersion"
    }
   ],
   "dockerImageVersionId": 30732,
   "isGpuEnabled": false,
   "isInternetEnabled": true,
   "language": "python",
   "sourceType": "notebook"
  },
  "kernelspec": {
   "display_name": "Python 3 (ipykernel)",
   "language": "python",
   "name": "python3"
  },
  "language_info": {
   "codemirror_mode": {
    "name": "ipython",
    "version": 3
   },
   "file_extension": ".py",
   "mimetype": "text/x-python",
   "name": "python",
   "nbconvert_exporter": "python",
   "pygments_lexer": "ipython3",
   "version": "3.11.5"
  }
 },
 "nbformat": 4,
 "nbformat_minor": 4
}
